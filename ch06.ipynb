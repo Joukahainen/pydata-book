{
 "cells": [
  {
   "cell_type": "markdown",
   "metadata": {
    "deletable": true,
    "editable": true
   },
   "source": [
    "# Data Loading, Storage, "
   ]
  },
  {
   "cell_type": "code",
   "execution_count": 1,
   "metadata": {},
   "outputs": [],
   "source": [
    "import numpy as np\n",
    "import pandas as pd\n",
    "np.random.seed(12345)\n",
    "import matplotlib.pyplot as plt\n",
    "plt.rc('figure', figsize=(10, 6))\n",
    "np.set_printoptions(precision=4, suppress=True)"
   ]
  },
  {
   "cell_type": "markdown",
   "metadata": {
    "deletable": true,
    "editable": true
   },
   "source": [
    "## Reading and Writing Data in Text Format"
   ]
  },
  {
   "cell_type": "code",
   "execution_count": 2,
   "metadata": {},
   "outputs": [
    {
     "name": "stdout",
     "output_type": "stream",
     "text": "a,b,c,d,message\n1,2,3,4,hello\n5,6,7,8,world\n9,10,11,12,foo"
    }
   ],
   "source": [
    "!cat examples/ex1.csv"
   ]
  },
  {
   "cell_type": "code",
   "execution_count": 3,
   "metadata": {},
   "outputs": [
    {
     "data": {
      "text/html": "<div>\n<style scoped>\n    .dataframe tbody tr th:only-of-type {\n        vertical-align: middle;\n    }\n\n    .dataframe tbody tr th {\n        vertical-align: top;\n    }\n\n    .dataframe thead th {\n        text-align: right;\n    }\n</style>\n<table border=\"1\" class=\"dataframe\">\n  <thead>\n    <tr style=\"text-align: right;\">\n      <th></th>\n      <th>a</th>\n      <th>b</th>\n      <th>c</th>\n      <th>d</th>\n      <th>message</th>\n    </tr>\n  </thead>\n  <tbody>\n    <tr>\n      <th>0</th>\n      <td>1</td>\n      <td>2</td>\n      <td>3</td>\n      <td>4</td>\n      <td>hello</td>\n    </tr>\n    <tr>\n      <th>1</th>\n      <td>5</td>\n      <td>6</td>\n      <td>7</td>\n      <td>8</td>\n      <td>world</td>\n    </tr>\n    <tr>\n      <th>2</th>\n      <td>9</td>\n      <td>10</td>\n      <td>11</td>\n      <td>12</td>\n      <td>foo</td>\n    </tr>\n  </tbody>\n</table>\n</div>",
      "text/plain": "   a   b   c   d message\n0  1   2   3   4   hello\n1  5   6   7   8   world\n2  9  10  11  12     foo"
     },
     "execution_count": 3,
     "metadata": {},
     "output_type": "execute_result"
    }
   ],
   "source": [
    "df = pd.read_csv('examples/ex1.csv')\n",
    "df"
   ]
  },
  {
   "cell_type": "code",
   "execution_count": 4,
   "metadata": {},
   "outputs": [
    {
     "data": {
      "text/html": "<div>\n<style scoped>\n    .dataframe tbody tr th:only-of-type {\n        vertical-align: middle;\n    }\n\n    .dataframe tbody tr th {\n        vertical-align: top;\n    }\n\n    .dataframe thead th {\n        text-align: right;\n    }\n</style>\n<table border=\"1\" class=\"dataframe\">\n  <thead>\n    <tr style=\"text-align: right;\">\n      <th></th>\n      <th>a</th>\n      <th>b</th>\n      <th>c</th>\n      <th>d</th>\n      <th>message</th>\n    </tr>\n  </thead>\n  <tbody>\n    <tr>\n      <th>0</th>\n      <td>1</td>\n      <td>2</td>\n      <td>3</td>\n      <td>4</td>\n      <td>hello</td>\n    </tr>\n    <tr>\n      <th>1</th>\n      <td>5</td>\n      <td>6</td>\n      <td>7</td>\n      <td>8</td>\n      <td>world</td>\n    </tr>\n    <tr>\n      <th>2</th>\n      <td>9</td>\n      <td>10</td>\n      <td>11</td>\n      <td>12</td>\n      <td>foo</td>\n    </tr>\n  </tbody>\n</table>\n</div>",
      "text/plain": "   a   b   c   d message\n0  1   2   3   4   hello\n1  5   6   7   8   world\n2  9  10  11  12     foo"
     },
     "execution_count": 4,
     "metadata": {},
     "output_type": "execute_result"
    }
   ],
   "source": [
    "pd.read_table('examples/ex1.csv', sep=',')"
   ]
  },
  {
   "cell_type": "code",
   "execution_count": 5,
   "metadata": {},
   "outputs": [
    {
     "name": "stdout",
     "output_type": "stream",
     "text": "1,2,3,4,hello\n5,6,7,8,world\n9,10,11,12,foo"
    }
   ],
   "source": [
    "!cat examples/ex2.csv"
   ]
  },
  {
   "cell_type": "code",
   "execution_count": 6,
   "metadata": {},
   "outputs": [
    {
     "data": {
      "text/html": "<div>\n<style scoped>\n    .dataframe tbody tr th:only-of-type {\n        vertical-align: middle;\n    }\n\n    .dataframe tbody tr th {\n        vertical-align: top;\n    }\n\n    .dataframe thead th {\n        text-align: right;\n    }\n</style>\n<table border=\"1\" class=\"dataframe\">\n  <thead>\n    <tr style=\"text-align: right;\">\n      <th></th>\n      <th>a</th>\n      <th>b</th>\n      <th>c</th>\n      <th>d</th>\n      <th>message</th>\n    </tr>\n  </thead>\n  <tbody>\n    <tr>\n      <th>0</th>\n      <td>1</td>\n      <td>2</td>\n      <td>3</td>\n      <td>4</td>\n      <td>hello</td>\n    </tr>\n    <tr>\n      <th>1</th>\n      <td>5</td>\n      <td>6</td>\n      <td>7</td>\n      <td>8</td>\n      <td>world</td>\n    </tr>\n    <tr>\n      <th>2</th>\n      <td>9</td>\n      <td>10</td>\n      <td>11</td>\n      <td>12</td>\n      <td>foo</td>\n    </tr>\n  </tbody>\n</table>\n</div>",
      "text/plain": "   a   b   c   d message\n0  1   2   3   4   hello\n1  5   6   7   8   world\n2  9  10  11  12     foo"
     },
     "execution_count": 6,
     "metadata": {},
     "output_type": "execute_result"
    }
   ],
   "source": [
    "pd.read_csv('examples/ex2.csv', header=None)\n",
    "pd.read_csv('examples/ex2.csv', names=['a', 'b', 'c', 'd', 'message'])"
   ]
  },
  {
   "cell_type": "markdown",
   "execution_count": null,
   "metadata": {},
   "outputs": [],
   "source": [
    "Use \"message\" column as the index!"
   ]
  },
  {
   "cell_type": "code",
   "execution_count": 8,
   "metadata": {},
   "outputs": [
    {
     "data": {
      "text/html": "<div>\n<style scoped>\n    .dataframe tbody tr th:only-of-type {\n        vertical-align: middle;\n    }\n\n    .dataframe tbody tr th {\n        vertical-align: top;\n    }\n\n    .dataframe thead th {\n        text-align: right;\n    }\n</style>\n<table border=\"1\" class=\"dataframe\">\n  <thead>\n    <tr style=\"text-align: right;\">\n      <th></th>\n      <th>a</th>\n      <th>b</th>\n      <th>c</th>\n      <th>d</th>\n    </tr>\n    <tr>\n      <th>message</th>\n      <th></th>\n      <th></th>\n      <th></th>\n      <th></th>\n    </tr>\n  </thead>\n  <tbody>\n    <tr>\n      <th>hello</th>\n      <td>1</td>\n      <td>2</td>\n      <td>3</td>\n      <td>4</td>\n    </tr>\n    <tr>\n      <th>world</th>\n      <td>5</td>\n      <td>6</td>\n      <td>7</td>\n      <td>8</td>\n    </tr>\n    <tr>\n      <th>foo</th>\n      <td>9</td>\n      <td>10</td>\n      <td>11</td>\n      <td>12</td>\n    </tr>\n  </tbody>\n</table>\n</div>",
      "text/plain": "         a   b   c   d\nmessage               \nhello    1   2   3   4\nworld    5   6   7   8\nfoo      9  10  11  12"
     },
     "execution_count": 8,
     "metadata": {},
     "output_type": "execute_result"
    }
   ],
   "source": [
    "names = ['a', 'b', 'c', 'd', 'message']\n",
    "pd.read_csv('examples/ex2.csv', names=names, index_col='message')"
   ]
  },
  {
   "cell_type": "code",
   "execution_count": 9,
   "metadata": {},
   "outputs": [
    {
     "name": "stdout",
     "output_type": "stream",
     "text": "key1,key2,value1,value2\none,a,1,2\none,b,3,4\none,c,5,6\none,d,7,8\ntwo,a,9,10\ntwo,b,11,12\ntwo,c,13,14\ntwo,d,15,16\n"
    },
    {
     "data": {
      "text/html": "<div>\n<style scoped>\n    .dataframe tbody tr th:only-of-type {\n        vertical-align: middle;\n    }\n\n    .dataframe tbody tr th {\n        vertical-align: top;\n    }\n\n    .dataframe thead th {\n        text-align: right;\n    }\n</style>\n<table border=\"1\" class=\"dataframe\">\n  <thead>\n    <tr style=\"text-align: right;\">\n      <th></th>\n      <th></th>\n      <th>value1</th>\n      <th>value2</th>\n    </tr>\n    <tr>\n      <th>key1</th>\n      <th>key2</th>\n      <th></th>\n      <th></th>\n    </tr>\n  </thead>\n  <tbody>\n    <tr>\n      <th rowspan=\"4\" valign=\"top\">one</th>\n      <th>a</th>\n      <td>1</td>\n      <td>2</td>\n    </tr>\n    <tr>\n      <th>b</th>\n      <td>3</td>\n      <td>4</td>\n    </tr>\n    <tr>\n      <th>c</th>\n      <td>5</td>\n      <td>6</td>\n    </tr>\n    <tr>\n      <th>d</th>\n      <td>7</td>\n      <td>8</td>\n    </tr>\n    <tr>\n      <th rowspan=\"4\" valign=\"top\">two</th>\n      <th>a</th>\n      <td>9</td>\n      <td>10</td>\n    </tr>\n    <tr>\n      <th>b</th>\n      <td>11</td>\n      <td>12</td>\n    </tr>\n    <tr>\n      <th>c</th>\n      <td>13</td>\n      <td>14</td>\n    </tr>\n    <tr>\n      <th>d</th>\n      <td>15</td>\n      <td>16</td>\n    </tr>\n  </tbody>\n</table>\n</div>",
      "text/plain": "           value1  value2\nkey1 key2                \none  a          1       2\n     b          3       4\n     c          5       6\n     d          7       8\ntwo  a          9      10\n     b         11      12\n     c         13      14\n     d         15      16"
     },
     "execution_count": 9,
     "metadata": {},
     "output_type": "execute_result"
    }
   ],
   "source": [
    "!cat examples/csv_mindex.csv\n",
    "parsed = pd.read_csv('examples/csv_mindex.csv',\n",
    "                     index_col=['key1', 'key2'])\n",
    "parsed"
   ]
  },
  {
   "cell_type": "code",
   "execution_count": 10,
   "metadata": {},
   "outputs": [
    {
     "data": {
      "text/plain": "['            A         B         C\\n',\n 'aaa -0.264438 -1.026059 -0.619500\\n',\n 'bbb  0.927272  0.302904 -0.032399\\n',\n 'ccc -0.264273 -0.386314 -0.217601\\n',\n 'ddd -0.871858 -0.348382  1.100491\\n']"
     },
     "execution_count": 10,
     "metadata": {},
     "output_type": "execute_result"
    }
   ],
   "source": [
    "list(open('examples/ex3.txt'))"
   ]
  },
  {
   "cell_type": "code",
   "execution_count": 11,
   "metadata": {},
   "outputs": [
    {
     "data": {
      "text/html": "<div>\n<style scoped>\n    .dataframe tbody tr th:only-of-type {\n        vertical-align: middle;\n    }\n\n    .dataframe tbody tr th {\n        vertical-align: top;\n    }\n\n    .dataframe thead th {\n        text-align: right;\n    }\n</style>\n<table border=\"1\" class=\"dataframe\">\n  <thead>\n    <tr style=\"text-align: right;\">\n      <th></th>\n      <th>A</th>\n      <th>B</th>\n      <th>C</th>\n    </tr>\n  </thead>\n  <tbody>\n    <tr>\n      <th>aaa</th>\n      <td>-0.264438</td>\n      <td>-1.026059</td>\n      <td>-0.619500</td>\n    </tr>\n    <tr>\n      <th>bbb</th>\n      <td>0.927272</td>\n      <td>0.302904</td>\n      <td>-0.032399</td>\n    </tr>\n    <tr>\n      <th>ccc</th>\n      <td>-0.264273</td>\n      <td>-0.386314</td>\n      <td>-0.217601</td>\n    </tr>\n    <tr>\n      <th>ddd</th>\n      <td>-0.871858</td>\n      <td>-0.348382</td>\n      <td>1.100491</td>\n    </tr>\n  </tbody>\n</table>\n</div>",
      "text/plain": "            A         B         C\naaa -0.264438 -1.026059 -0.619500\nbbb  0.927272  0.302904 -0.032399\nccc -0.264273 -0.386314 -0.217601\nddd -0.871858 -0.348382  1.100491"
     },
     "execution_count": 11,
     "metadata": {},
     "output_type": "execute_result"
    }
   ],
   "source": [
    "result = pd.read_table('examples/ex3.txt', sep='\\s+')\n",
    "result"
   ]
  },
  {
   "cell_type": "code",
   "execution_count": 12,
   "metadata": {},
   "outputs": [
    {
     "name": "stdout",
     "output_type": "stream",
     "text": "# hey!\na,b,c,d,message\n# just wanted to make things more difficult for you\n# who reads CSV files with computers, anyway?\n1,2,3,4,hello\n5,6,7,8,world\n9,10,11,12,foo"
    },
    {
     "data": {
      "text/html": "<div>\n<style scoped>\n    .dataframe tbody tr th:only-of-type {\n        vertical-align: middle;\n    }\n\n    .dataframe tbody tr th {\n        vertical-align: top;\n    }\n\n    .dataframe thead th {\n        text-align: right;\n    }\n</style>\n<table border=\"1\" class=\"dataframe\">\n  <thead>\n    <tr style=\"text-align: right;\">\n      <th></th>\n      <th>a</th>\n      <th>b</th>\n      <th>c</th>\n      <th>d</th>\n      <th>message</th>\n    </tr>\n  </thead>\n  <tbody>\n    <tr>\n      <th>0</th>\n      <td>1</td>\n      <td>2</td>\n      <td>3</td>\n      <td>4</td>\n      <td>hello</td>\n    </tr>\n    <tr>\n      <th>1</th>\n      <td>5</td>\n      <td>6</td>\n      <td>7</td>\n      <td>8</td>\n      <td>world</td>\n    </tr>\n    <tr>\n      <th>2</th>\n      <td>9</td>\n      <td>10</td>\n      <td>11</td>\n      <td>12</td>\n      <td>foo</td>\n    </tr>\n  </tbody>\n</table>\n</div>",
      "text/plain": "   a   b   c   d message\n0  1   2   3   4   hello\n1  5   6   7   8   world\n2  9  10  11  12     foo"
     },
     "execution_count": 12,
     "metadata": {},
     "output_type": "execute_result"
    }
   ],
   "source": [
    "!cat examples/ex4.csv\n",
    "pd.read_csv('examples/ex4.csv', skiprows=[0, 2, 3])"
   ]
  },
  {
   "cell_type": "code",
   "execution_count": 13,
   "metadata": {},
   "outputs": [
    {
     "name": "stdout",
     "output_type": "stream",
     "text": "something,a,b,c,d,message\none,1,2,3,4,NA\ntwo,5,6,,8,world\nthree,9,10,11,12,foo"
    },
    {
     "data": {
      "text/html": "<div>\n<style scoped>\n    .dataframe tbody tr th:only-of-type {\n        vertical-align: middle;\n    }\n\n    .dataframe tbody tr th {\n        vertical-align: top;\n    }\n\n    .dataframe thead th {\n        text-align: right;\n    }\n</style>\n<table border=\"1\" class=\"dataframe\">\n  <thead>\n    <tr style=\"text-align: right;\">\n      <th></th>\n      <th>something</th>\n      <th>a</th>\n      <th>b</th>\n      <th>c</th>\n      <th>d</th>\n      <th>message</th>\n    </tr>\n  </thead>\n  <tbody>\n    <tr>\n      <th>0</th>\n      <td>False</td>\n      <td>False</td>\n      <td>False</td>\n      <td>False</td>\n      <td>False</td>\n      <td>True</td>\n    </tr>\n    <tr>\n      <th>1</th>\n      <td>False</td>\n      <td>False</td>\n      <td>False</td>\n      <td>True</td>\n      <td>False</td>\n      <td>False</td>\n    </tr>\n    <tr>\n      <th>2</th>\n      <td>False</td>\n      <td>False</td>\n      <td>False</td>\n      <td>False</td>\n      <td>False</td>\n      <td>False</td>\n    </tr>\n  </tbody>\n</table>\n</div>",
      "text/plain": "   something      a      b      c      d  message\n0      False  False  False  False  False     True\n1      False  False  False   True  False    False\n2      False  False  False  False  False    False"
     },
     "execution_count": 13,
     "metadata": {},
     "output_type": "execute_result"
    }
   ],
   "source": [
    "!cat examples/ex5.csv\n",
    "result = pd.read_csv('examples/ex5.csv')\n",
    "result\n",
    "pd.isnull(result)"
   ]
  },
  {
   "cell_type": "code",
   "execution_count": 14,
   "metadata": {},
   "outputs": [
    {
     "data": {
      "text/html": "<div>\n<style scoped>\n    .dataframe tbody tr th:only-of-type {\n        vertical-align: middle;\n    }\n\n    .dataframe tbody tr th {\n        vertical-align: top;\n    }\n\n    .dataframe thead th {\n        text-align: right;\n    }\n</style>\n<table border=\"1\" class=\"dataframe\">\n  <thead>\n    <tr style=\"text-align: right;\">\n      <th></th>\n      <th>something</th>\n      <th>a</th>\n      <th>b</th>\n      <th>c</th>\n      <th>d</th>\n      <th>message</th>\n    </tr>\n  </thead>\n  <tbody>\n    <tr>\n      <th>0</th>\n      <td>one</td>\n      <td>1</td>\n      <td>2</td>\n      <td>3.0</td>\n      <td>4</td>\n      <td>NaN</td>\n    </tr>\n    <tr>\n      <th>1</th>\n      <td>two</td>\n      <td>5</td>\n      <td>6</td>\n      <td>NaN</td>\n      <td>8</td>\n      <td>world</td>\n    </tr>\n    <tr>\n      <th>2</th>\n      <td>three</td>\n      <td>9</td>\n      <td>10</td>\n      <td>11.0</td>\n      <td>12</td>\n      <td>foo</td>\n    </tr>\n  </tbody>\n</table>\n</div>",
      "text/plain": "  something  a   b     c   d message\n0       one  1   2   3.0   4     NaN\n1       two  5   6   NaN   8   world\n2     three  9  10  11.0  12     foo"
     },
     "execution_count": 14,
     "metadata": {},
     "output_type": "execute_result"
    }
   ],
   "source": [
    "result = pd.read_csv('examples/ex5.csv', na_values=['NULL'])\n",
    "result"
   ]
  },
  {
   "cell_type": "code",
   "execution_count": 15,
   "metadata": {},
   "outputs": [
    {
     "data": {
      "text/html": "<div>\n<style scoped>\n    .dataframe tbody tr th:only-of-type {\n        vertical-align: middle;\n    }\n\n    .dataframe tbody tr th {\n        vertical-align: top;\n    }\n\n    .dataframe thead th {\n        text-align: right;\n    }\n</style>\n<table border=\"1\" class=\"dataframe\">\n  <thead>\n    <tr style=\"text-align: right;\">\n      <th></th>\n      <th>something</th>\n      <th>a</th>\n      <th>b</th>\n      <th>c</th>\n      <th>d</th>\n      <th>message</th>\n    </tr>\n  </thead>\n  <tbody>\n    <tr>\n      <th>0</th>\n      <td>one</td>\n      <td>1</td>\n      <td>2</td>\n      <td>3.0</td>\n      <td>4</td>\n      <td>NaN</td>\n    </tr>\n    <tr>\n      <th>1</th>\n      <td>NaN</td>\n      <td>5</td>\n      <td>6</td>\n      <td>NaN</td>\n      <td>8</td>\n      <td>world</td>\n    </tr>\n    <tr>\n      <th>2</th>\n      <td>three</td>\n      <td>9</td>\n      <td>10</td>\n      <td>11.0</td>\n      <td>12</td>\n      <td>NaN</td>\n    </tr>\n  </tbody>\n</table>\n</div>",
      "text/plain": "  something  a   b     c   d message\n0       one  1   2   3.0   4     NaN\n1       NaN  5   6   NaN   8   world\n2     three  9  10  11.0  12     NaN"
     },
     "execution_count": 15,
     "metadata": {},
     "output_type": "execute_result"
    }
   ],
   "source": [
    "sentinels = {'message': ['foo', 'NA'], 'something': ['two']}\n",
    "pd.read_csv('examples/ex5.csv', na_values=sentinels)"
   ]
  },
  {
   "cell_type": "markdown",
   "metadata": {
    "deletable": true,
    "editable": true
   },
   "source": [
    "### Reading Text Files in Pieces"
   ]
  },
  {
   "cell_type": "code",
   "execution_count": 16,
   "metadata": {},
   "outputs": [],
   "source": [
    "pd.options.display.max_rows = 10"
   ]
  },
  {
   "cell_type": "code",
   "execution_count": 17,
   "metadata": {},
   "outputs": [
    {
     "data": {
      "text/html": "<div>\n<style scoped>\n    .dataframe tbody tr th:only-of-type {\n        vertical-align: middle;\n    }\n\n    .dataframe tbody tr th {\n        vertical-align: top;\n    }\n\n    .dataframe thead th {\n        text-align: right;\n    }\n</style>\n<table border=\"1\" class=\"dataframe\">\n  <thead>\n    <tr style=\"text-align: right;\">\n      <th></th>\n      <th>one</th>\n      <th>two</th>\n      <th>three</th>\n      <th>four</th>\n      <th>key</th>\n    </tr>\n  </thead>\n  <tbody>\n    <tr>\n      <th>0</th>\n      <td>0.467976</td>\n      <td>-0.038649</td>\n      <td>-0.295344</td>\n      <td>-1.824726</td>\n      <td>L</td>\n    </tr>\n    <tr>\n      <th>1</th>\n      <td>-0.358893</td>\n      <td>1.404453</td>\n      <td>0.704965</td>\n      <td>-0.200638</td>\n      <td>B</td>\n    </tr>\n    <tr>\n      <th>2</th>\n      <td>-0.501840</td>\n      <td>0.659254</td>\n      <td>-0.421691</td>\n      <td>-0.057688</td>\n      <td>G</td>\n    </tr>\n    <tr>\n      <th>3</th>\n      <td>0.204886</td>\n      <td>1.074134</td>\n      <td>1.388361</td>\n      <td>-0.982404</td>\n      <td>R</td>\n    </tr>\n    <tr>\n      <th>4</th>\n      <td>0.354628</td>\n      <td>-0.133116</td>\n      <td>0.283763</td>\n      <td>-0.837063</td>\n      <td>Q</td>\n    </tr>\n    <tr>\n      <th>...</th>\n      <td>...</td>\n      <td>...</td>\n      <td>...</td>\n      <td>...</td>\n      <td>...</td>\n    </tr>\n    <tr>\n      <th>9995</th>\n      <td>2.311896</td>\n      <td>-0.417070</td>\n      <td>-1.409599</td>\n      <td>-0.515821</td>\n      <td>L</td>\n    </tr>\n    <tr>\n      <th>9996</th>\n      <td>-0.479893</td>\n      <td>-0.650419</td>\n      <td>0.745152</td>\n      <td>-0.646038</td>\n      <td>E</td>\n    </tr>\n    <tr>\n      <th>9997</th>\n      <td>0.523331</td>\n      <td>0.787112</td>\n      <td>0.486066</td>\n      <td>1.093156</td>\n      <td>K</td>\n    </tr>\n    <tr>\n      <th>9998</th>\n      <td>-0.362559</td>\n      <td>0.598894</td>\n      <td>-1.843201</td>\n      <td>0.887292</td>\n      <td>G</td>\n    </tr>\n    <tr>\n      <th>9999</th>\n      <td>-0.096376</td>\n      <td>-1.012999</td>\n      <td>-0.657431</td>\n      <td>-0.573315</td>\n      <td>0</td>\n    </tr>\n  </tbody>\n</table>\n<p>10000 rows × 5 columns</p>\n</div>",
      "text/plain": "           one       two     three      four key\n0     0.467976 -0.038649 -0.295344 -1.824726   L\n1    -0.358893  1.404453  0.704965 -0.200638   B\n2    -0.501840  0.659254 -0.421691 -0.057688   G\n3     0.204886  1.074134  1.388361 -0.982404   R\n4     0.354628 -0.133116  0.283763 -0.837063   Q\n...        ...       ...       ...       ...  ..\n9995  2.311896 -0.417070 -1.409599 -0.515821   L\n9996 -0.479893 -0.650419  0.745152 -0.646038   E\n9997  0.523331  0.787112  0.486066  1.093156   K\n9998 -0.362559  0.598894 -1.843201  0.887292   G\n9999 -0.096376 -1.012999 -0.657431 -0.573315   0\n\n[10000 rows x 5 columns]"
     },
     "execution_count": 17,
     "metadata": {},
     "output_type": "execute_result"
    }
   ],
   "source": [
    "result = pd.read_csv('examples/ex6.csv')\n",
    "result"
   ]
  },
  {
   "cell_type": "code",
   "execution_count": 18,
   "metadata": {},
   "outputs": [
    {
     "data": {
      "text/html": "<div>\n<style scoped>\n    .dataframe tbody tr th:only-of-type {\n        vertical-align: middle;\n    }\n\n    .dataframe tbody tr th {\n        vertical-align: top;\n    }\n\n    .dataframe thead th {\n        text-align: right;\n    }\n</style>\n<table border=\"1\" class=\"dataframe\">\n  <thead>\n    <tr style=\"text-align: right;\">\n      <th></th>\n      <th>one</th>\n      <th>two</th>\n      <th>three</th>\n      <th>four</th>\n      <th>key</th>\n    </tr>\n  </thead>\n  <tbody>\n    <tr>\n      <th>0</th>\n      <td>0.467976</td>\n      <td>-0.038649</td>\n      <td>-0.295344</td>\n      <td>-1.824726</td>\n      <td>L</td>\n    </tr>\n    <tr>\n      <th>1</th>\n      <td>-0.358893</td>\n      <td>1.404453</td>\n      <td>0.704965</td>\n      <td>-0.200638</td>\n      <td>B</td>\n    </tr>\n    <tr>\n      <th>2</th>\n      <td>-0.501840</td>\n      <td>0.659254</td>\n      <td>-0.421691</td>\n      <td>-0.057688</td>\n      <td>G</td>\n    </tr>\n    <tr>\n      <th>3</th>\n      <td>0.204886</td>\n      <td>1.074134</td>\n      <td>1.388361</td>\n      <td>-0.982404</td>\n      <td>R</td>\n    </tr>\n    <tr>\n      <th>4</th>\n      <td>0.354628</td>\n      <td>-0.133116</td>\n      <td>0.283763</td>\n      <td>-0.837063</td>\n      <td>Q</td>\n    </tr>\n  </tbody>\n</table>\n</div>",
      "text/plain": "        one       two     three      four key\n0  0.467976 -0.038649 -0.295344 -1.824726   L\n1 -0.358893  1.404453  0.704965 -0.200638   B\n2 -0.501840  0.659254 -0.421691 -0.057688   G\n3  0.204886  1.074134  1.388361 -0.982404   R\n4  0.354628 -0.133116  0.283763 -0.837063   Q"
     },
     "execution_count": 18,
     "metadata": {},
     "output_type": "execute_result"
    }
   ],
   "source": [
    "pd.read_csv('examples/ex6.csv', nrows=5)"
   ]
  },
  {
   "cell_type": "code",
   "execution_count": 19,
   "metadata": {},
   "outputs": [
    {
     "data": {
      "text/plain": "<pandas.io.parsers.TextFileReader at 0x1156a3c90>"
     },
     "execution_count": 19,
     "metadata": {},
     "output_type": "execute_result"
    }
   ],
   "source": [
    "chunker = pd.read_csv('examples/ex6.csv', chunksize=1000)\n",
    "chunker"
   ]
  },
  {
   "cell_type": "code",
   "execution_count": 20,
   "metadata": {},
   "outputs": [],
   "source": [
    "chunker = pd.read_csv('examples/ex6.csv', chunksize=1000)\n",
    "\n",
    "tot = pd.Series([])\n",
    "for piece in chunker:\n",
    "    tot = tot.add(piece['key'].value_counts(), fill_value=0)\n",
    "\n",
    "tot = tot.sort_values(ascending=False)"
   ]
  },
  {
   "cell_type": "code",
   "execution_count": 21,
   "metadata": {},
   "outputs": [
    {
     "data": {
      "text/plain": "E    368.0\nX    364.0\nL    346.0\nO    343.0\nQ    340.0\nM    338.0\nJ    337.0\nF    335.0\nK    334.0\nH    330.0\ndtype: float64"
     },
     "execution_count": 21,
     "metadata": {},
     "output_type": "execute_result"
    }
   ],
   "source": [
    "tot[:10]"
   ]
  },
  {
   "cell_type": "markdown",
   "metadata": {
    "deletable": true,
    "editable": true
   },
   "source": [
    "### Writing Data to Text Format"
   ]
  },
  {
   "cell_type": "code",
   "execution_count": 22,
   "metadata": {},
   "outputs": [
    {
     "data": {
      "text/html": "<div>\n<style scoped>\n    .dataframe tbody tr th:only-of-type {\n        vertical-align: middle;\n    }\n\n    .dataframe tbody tr th {\n        vertical-align: top;\n    }\n\n    .dataframe thead th {\n        text-align: right;\n    }\n</style>\n<table border=\"1\" class=\"dataframe\">\n  <thead>\n    <tr style=\"text-align: right;\">\n      <th></th>\n      <th>something</th>\n      <th>a</th>\n      <th>b</th>\n      <th>c</th>\n      <th>d</th>\n      <th>message</th>\n    </tr>\n  </thead>\n  <tbody>\n    <tr>\n      <th>0</th>\n      <td>one</td>\n      <td>1</td>\n      <td>2</td>\n      <td>3.0</td>\n      <td>4</td>\n      <td>NaN</td>\n    </tr>\n    <tr>\n      <th>1</th>\n      <td>two</td>\n      <td>5</td>\n      <td>6</td>\n      <td>NaN</td>\n      <td>8</td>\n      <td>world</td>\n    </tr>\n    <tr>\n      <th>2</th>\n      <td>three</td>\n      <td>9</td>\n      <td>10</td>\n      <td>11.0</td>\n      <td>12</td>\n      <td>foo</td>\n    </tr>\n  </tbody>\n</table>\n</div>",
      "text/plain": "  something  a   b     c   d message\n0       one  1   2   3.0   4     NaN\n1       two  5   6   NaN   8   world\n2     three  9  10  11.0  12     foo"
     },
     "execution_count": 22,
     "metadata": {},
     "output_type": "execute_result"
    }
   ],
   "source": [
    "data = pd.read_csv('examples/ex5.csv')\n",
    "data"
   ]
  },
  {
   "cell_type": "code",
   "execution_count": 23,
   "metadata": {},
   "outputs": [
    {
     "name": "stdout",
     "output_type": "stream",
     "text": ",something,a,b,c,d,message\n0,one,1,2,3.0,4,\n1,two,5,6,,8,world\n2,three,9,10,11.0,12,foo\n"
    }
   ],
   "source": [
    "data.to_csv('examples/out.csv')\n",
    "!cat examples/out.csv"
   ]
  },
  {
   "cell_type": "code",
   "execution_count": 24,
   "metadata": {},
   "outputs": [
    {
     "name": "stdout",
     "output_type": "stream",
     "text": "|something|a|b|c|d|message\n0|one|1|2|3.0|4|\n1|two|5|6||8|world\n2|three|9|10|11.0|12|foo\n"
    }
   ],
   "source": [
    "import sys\n",
    "data.to_csv(sys.stdout, sep='|')"
   ]
  },
  {
   "cell_type": "code",
   "execution_count": 25,
   "metadata": {},
   "outputs": [
    {
     "name": "stdout",
     "output_type": "stream",
     "text": ",something,a,b,c,d,message\n0,one,1,2,3.0,4,NULL\n1,two,5,6,NULL,8,world\n2,three,9,10,11.0,12,foo\n"
    }
   ],
   "source": [
    "data.to_csv(sys.stdout, na_rep='NULL')"
   ]
  },
  {
   "cell_type": "code",
   "execution_count": 26,
   "metadata": {},
   "outputs": [
    {
     "name": "stdout",
     "output_type": "stream",
     "text": "one,1,2,3.0,4,\ntwo,5,6,,8,world\nthree,9,10,11.0,12,foo\n"
    }
   ],
   "source": [
    "data.to_csv(sys.stdout, index=False, header=False)"
   ]
  },
  {
   "cell_type": "code",
   "execution_count": 28,
   "metadata": {},
   "outputs": [
    {
     "data": {
      "text/html": "<div>\n<style scoped>\n    .dataframe tbody tr th:only-of-type {\n        vertical-align: middle;\n    }\n\n    .dataframe tbody tr th {\n        vertical-align: top;\n    }\n\n    .dataframe thead th {\n        text-align: right;\n    }\n</style>\n<table border=\"1\" class=\"dataframe\">\n  <thead>\n    <tr style=\"text-align: right;\">\n      <th></th>\n      <th>something</th>\n      <th>a</th>\n      <th>b</th>\n      <th>c</th>\n      <th>d</th>\n      <th>message</th>\n    </tr>\n  </thead>\n  <tbody>\n    <tr>\n      <th>0</th>\n      <td>one</td>\n      <td>1</td>\n      <td>2</td>\n      <td>3.0</td>\n      <td>4</td>\n      <td>NaN</td>\n    </tr>\n    <tr>\n      <th>1</th>\n      <td>two</td>\n      <td>5</td>\n      <td>6</td>\n      <td>NaN</td>\n      <td>8</td>\n      <td>world</td>\n    </tr>\n    <tr>\n      <th>2</th>\n      <td>three</td>\n      <td>9</td>\n      <td>10</td>\n      <td>11.0</td>\n      <td>12</td>\n      <td>foo</td>\n    </tr>\n  </tbody>\n</table>\n</div>",
      "text/plain": "  something  a   b     c   d message\n0       one  1   2   3.0   4     NaN\n1       two  5   6   NaN   8   world\n2     three  9  10  11.0  12     foo"
     },
     "execution_count": 28,
     "metadata": {},
     "output_type": "execute_result"
    }
   ],
   "source": [
    "data"
   ]
  },
  {
   "cell_type": "code",
   "execution_count": 29,
   "metadata": {},
   "outputs": [
    {
     "name": "stdout",
     "output_type": "stream",
     "text": "a,b,c\n1,2,3.0\n5,6,\n9,10,11.0\n"
    }
   ],
   "source": [
    "data.to_csv(sys.stdout, index=False, columns=['a', 'b', 'c'])"
   ]
  },
  {
   "cell_type": "code",
   "execution_count": 30,
   "metadata": {},
   "outputs": [
    {
     "name": "stdout",
     "output_type": "stream",
     "text": "2000-01-01,0\n2000-01-02,1\n2000-01-03,2\n2000-01-04,3\n2000-01-05,4\n2000-01-06,5\n2000-01-07,6\n/Users/arto/opt/anaconda3/envs/ds/lib/python3.7/site-packages/ipykernel_launcher.py:3: FutureWarning: The signature of `Series.to_csv` was aligned to that of `DataFrame.to_csv`, and argument 'header' will change its default value from False to True: please pass an explicit value to suppress this warning.\n  This is separate from the ipykernel package so we can avoid doing imports until\n"
    }
   ],
   "source": [
    "dates = pd.date_range('1/1/2000', periods=7)\n",
    "ts = pd.Series(np.arange(7), index=dates)\n",
    "ts.to_csv('examples/tseries.csv')\n",
    "!cat examples/tseries.csv"
   ]
  },
  {
   "cell_type": "markdown",
   "execution_count": null,
   "metadata": {},
   "outputs": [],
   "source": [
    "Corrected below:"
   ]
  },
  {
   "cell_type": "code",
   "execution_count": 33,
   "metadata": {},
   "outputs": [
    {
     "name": "stdout",
     "output_type": "stream",
     "text": "2000-01-01,0\n2000-01-02,1\n2000-01-03,2\n2000-01-04,3\n2000-01-05,4\n2000-01-06,5\n2000-01-07,6\n"
    }
   ],
   "source": [
    "dates = pd.date_range('1/1/2000', periods=7)\n",
    "ts = pd.Series(np.arange(7), index=dates)\n",
    "ts.to_csv('examples/tseries.csv', header = False)\n",
    "!cat examples/tseries.csv"
   ]
  },
  {
   "cell_type": "markdown",
   "metadata": {
    "deletable": true,
    "editable": true
   },
   "source": [
    "### Working with Delimited Formats"
   ]
  },
  {
   "cell_type": "code",
   "execution_count": 34,
   "metadata": {},
   "outputs": [
    {
     "name": "stdout",
     "output_type": "stream",
     "text": "\"a\",\"b\",\"c\"\n\"1\",\"2\",\"3\"\n\"1\",\"2\",\"3\"\n"
    }
   ],
   "source": [
    "!cat examples/ex7.csv"
   ]
  },
  {
   "cell_type": "code",
   "execution_count": 35,
   "metadata": {},
   "outputs": [],
   "source": [
    "import csv\n",
    "f = open('examples/ex7.csv')\n",
    "\n",
    "reader = csv.reader(f)"
   ]
  },
  {
   "cell_type": "code",
   "execution_count": 36,
   "metadata": {},
   "outputs": [
    {
     "name": "stdout",
     "output_type": "stream",
     "text": "['a', 'b', 'c']\n['1', '2', '3']\n['1', '2', '3']\n"
    }
   ],
   "source": [
    "for line in reader:\n",
    "    print(line)"
   ]
  },
  {
   "cell_type": "code",
   "execution_count": 37,
   "metadata": {},
   "outputs": [],
   "source": [
    "with open('examples/ex7.csv') as f:\n",
    "    lines = list(csv.reader(f))"
   ]
  },
  {
   "cell_type": "code",
   "execution_count": 38,
   "metadata": {},
   "outputs": [],
   "source": [
    "header, values = lines[0], lines[1:]"
   ]
  },
  {
   "cell_type": "code",
   "execution_count": 39,
   "metadata": {},
   "outputs": [
    {
     "data": {
      "text/plain": "{'a': ('1', '1'), 'b': ('2', '2'), 'c': ('3', '3')}"
     },
     "execution_count": 39,
     "metadata": {},
     "output_type": "execute_result"
    }
   ],
   "source": [
    "data_dict = {h: v for h, v in zip(header, zip(*values))}\n",
    "data_dict"
   ]
  },
  {
   "cell_type": "markdown",
   "metadata": {
    "deletable": true,
    "editable": true
   },
   "source": [
    "class my_dialect(csv.Dialect):\n",
    "    lineterminator = '\\n'\n",
    "    delimiter = ';'\n",
    "    quotechar = '\"'\n",
    "    quoting = csv.QUOTE_MINIMAL"
   ]
  },
  {
   "cell_type": "markdown",
   "metadata": {
    "deletable": true,
    "editable": true
   },
   "source": [
    "reader = csv.reader(f, dialect=my_dialect)"
   ]
  },
  {
   "cell_type": "markdown",
   "metadata": {
    "deletable": true,
    "editable": true
   },
   "source": [
    "reader = csv.reader(f, delimiter='|')"
   ]
  },
  {
   "cell_type": "markdown",
   "metadata": {
    "deletable": true,
    "editable": true
   },
   "source": [
    "with open('mydata.csv', 'w') as f:\n",
    "    writer = csv.writer(f, dialect=my_dialect)\n",
    "    writer.writerow(('one', 'two', 'three'))\n",
    "    writer.writerow(('1', '2', '3'))\n",
    "    writer.writerow(('4', '5', '6'))\n",
    "    writer.writerow(('7', '8', '9'))"
   ]
  },
  {
   "cell_type": "markdown",
   "metadata": {
    "deletable": true,
    "editable": true
   },
   "source": [
    "### JSON Data"
   ]
  },
  {
   "cell_type": "code",
   "execution_count": 40,
   "metadata": {},
   "outputs": [],
   "source": [
    "obj = \"\"\"\n",
    "{\"name\": \"Wes\",\n",
    " \"places_lived\": [\"United States\", \"Spain\", \"Germany\"],\n",
    " \"pet\": null,\n",
    " \"siblings\": [{\"name\": \"Scott\", \"age\": 30, \"pets\": [\"Zeus\", \"Zuko\"]},\n",
    "              {\"name\": \"Katie\", \"age\": 38,\n",
    "               \"pets\": [\"Sixes\", \"Stache\", \"Cisco\"]}]\n",
    "}\n",
    "\"\"\""
   ]
  },
  {
   "cell_type": "code",
   "execution_count": 41,
   "metadata": {},
   "outputs": [
    {
     "data": {
      "text/plain": "{'name': 'Wes',\n 'places_lived': ['United States', 'Spain', 'Germany'],\n 'pet': None,\n 'siblings': [{'name': 'Scott', 'age': 30, 'pets': ['Zeus', 'Zuko']},\n  {'name': 'Katie', 'age': 38, 'pets': ['Sixes', 'Stache', 'Cisco']}]}"
     },
     "execution_count": 41,
     "metadata": {},
     "output_type": "execute_result"
    }
   ],
   "source": [
    "import json\n",
    "result = json.loads(obj)\n",
    "result"
   ]
  },
  {
   "cell_type": "code",
   "execution_count": 42,
   "metadata": {},
   "outputs": [],
   "source": [
    "asjson = json.dumps(result)"
   ]
  },
  {
   "cell_type": "code",
   "execution_count": 43,
   "metadata": {},
   "outputs": [
    {
     "data": {
      "text/html": "<div>\n<style scoped>\n    .dataframe tbody tr th:only-of-type {\n        vertical-align: middle;\n    }\n\n    .dataframe tbody tr th {\n        vertical-align: top;\n    }\n\n    .dataframe thead th {\n        text-align: right;\n    }\n</style>\n<table border=\"1\" class=\"dataframe\">\n  <thead>\n    <tr style=\"text-align: right;\">\n      <th></th>\n      <th>name</th>\n      <th>age</th>\n    </tr>\n  </thead>\n  <tbody>\n    <tr>\n      <th>0</th>\n      <td>Scott</td>\n      <td>30</td>\n    </tr>\n    <tr>\n      <th>1</th>\n      <td>Katie</td>\n      <td>38</td>\n    </tr>\n  </tbody>\n</table>\n</div>",
      "text/plain": "    name  age\n0  Scott   30\n1  Katie   38"
     },
     "execution_count": 43,
     "metadata": {},
     "output_type": "execute_result"
    }
   ],
   "source": [
    "siblings = pd.DataFrame(result['siblings'], columns=['name', 'age'])\n",
    "siblings"
   ]
  },
  {
   "cell_type": "code",
   "execution_count": 44,
   "metadata": {},
   "outputs": [
    {
     "name": "stdout",
     "output_type": "stream",
     "text": "[{\"a\": 1, \"b\": 2, \"c\": 3},\n {\"a\": 4, \"b\": 5, \"c\": 6},\n {\"a\": 7, \"b\": 8, \"c\": 9}]\n"
    }
   ],
   "source": [
    "!cat examples/example.json"
   ]
  },
  {
   "cell_type": "code",
   "execution_count": 45,
   "metadata": {},
   "outputs": [
    {
     "data": {
      "text/html": "<div>\n<style scoped>\n    .dataframe tbody tr th:only-of-type {\n        vertical-align: middle;\n    }\n\n    .dataframe tbody tr th {\n        vertical-align: top;\n    }\n\n    .dataframe thead th {\n        text-align: right;\n    }\n</style>\n<table border=\"1\" class=\"dataframe\">\n  <thead>\n    <tr style=\"text-align: right;\">\n      <th></th>\n      <th>a</th>\n      <th>b</th>\n      <th>c</th>\n    </tr>\n  </thead>\n  <tbody>\n    <tr>\n      <th>0</th>\n      <td>1</td>\n      <td>2</td>\n      <td>3</td>\n    </tr>\n    <tr>\n      <th>1</th>\n      <td>4</td>\n      <td>5</td>\n      <td>6</td>\n    </tr>\n    <tr>\n      <th>2</th>\n      <td>7</td>\n      <td>8</td>\n      <td>9</td>\n    </tr>\n  </tbody>\n</table>\n</div>",
      "text/plain": "   a  b  c\n0  1  2  3\n1  4  5  6\n2  7  8  9"
     },
     "execution_count": 45,
     "metadata": {},
     "output_type": "execute_result"
    }
   ],
   "source": [
    "data = pd.read_json('examples/example.json')\n",
    "data"
   ]
  },
  {
   "cell_type": "code",
   "execution_count": 46,
   "metadata": {},
   "outputs": [
    {
     "name": "stdout",
     "output_type": "stream",
     "text": "{\"a\":{\"0\":1,\"1\":4,\"2\":7},\"b\":{\"0\":2,\"1\":5,\"2\":8},\"c\":{\"0\":3,\"1\":6,\"2\":9}}\n[{\"a\":1,\"b\":2,\"c\":3},{\"a\":4,\"b\":5,\"c\":6},{\"a\":7,\"b\":8,\"c\":9}]\n"
    }
   ],
   "source": [
    "print(data.to_json())\n",
    "print(data.to_json(orient='records'))"
   ]
  },
  {
   "cell_type": "markdown",
   "metadata": {
    "deletable": true,
    "editable": true
   },
   "source": [
    "### XML and HTML: Web Scraping"
   ]
  },
  {
   "cell_type": "markdown",
   "metadata": {
    "deletable": true,
    "editable": true
   },
   "source": [
    "#conda install lxml\n",
    "#pip install beautifulsoup4 html5lib"
   ]
  },
  {
   "cell_type": "code",
   "execution_count": 50,
   "metadata": {},
   "outputs": [
    {
     "data": {
      "text/html": "<div>\n<style scoped>\n    .dataframe tbody tr th:only-of-type {\n        vertical-align: middle;\n    }\n\n    .dataframe tbody tr th {\n        vertical-align: top;\n    }\n\n    .dataframe thead th {\n        text-align: right;\n    }\n</style>\n<table border=\"1\" class=\"dataframe\">\n  <thead>\n    <tr style=\"text-align: right;\">\n      <th></th>\n      <th>Bank Name</th>\n      <th>City</th>\n      <th>ST</th>\n      <th>CERT</th>\n      <th>Acquiring Institution</th>\n      <th>Closing Date</th>\n      <th>Updated Date</th>\n    </tr>\n  </thead>\n  <tbody>\n    <tr>\n      <th>0</th>\n      <td>Allied Bank</td>\n      <td>Mulberry</td>\n      <td>AR</td>\n      <td>91</td>\n      <td>Today's Bank</td>\n      <td>September 23, 2016</td>\n      <td>November 17, 2016</td>\n    </tr>\n    <tr>\n      <th>1</th>\n      <td>The Woodbury Banking Company</td>\n      <td>Woodbury</td>\n      <td>GA</td>\n      <td>11297</td>\n      <td>United Bank</td>\n      <td>August 19, 2016</td>\n      <td>November 17, 2016</td>\n    </tr>\n    <tr>\n      <th>2</th>\n      <td>First CornerStone Bank</td>\n      <td>King of Prussia</td>\n      <td>PA</td>\n      <td>35312</td>\n      <td>First-Citizens Bank &amp; Trust Company</td>\n      <td>May 6, 2016</td>\n      <td>September 6, 2016</td>\n    </tr>\n    <tr>\n      <th>3</th>\n      <td>Trust Company Bank</td>\n      <td>Memphis</td>\n      <td>TN</td>\n      <td>9956</td>\n      <td>The Bank of Fayette County</td>\n      <td>April 29, 2016</td>\n      <td>September 6, 2016</td>\n    </tr>\n    <tr>\n      <th>4</th>\n      <td>North Milwaukee State Bank</td>\n      <td>Milwaukee</td>\n      <td>WI</td>\n      <td>20364</td>\n      <td>First-Citizens Bank &amp; Trust Company</td>\n      <td>March 11, 2016</td>\n      <td>June 16, 2016</td>\n    </tr>\n  </tbody>\n</table>\n</div>",
      "text/plain": "                      Bank Name             City  ST   CERT  \\\n0                   Allied Bank         Mulberry  AR     91   \n1  The Woodbury Banking Company         Woodbury  GA  11297   \n2        First CornerStone Bank  King of Prussia  PA  35312   \n3            Trust Company Bank          Memphis  TN   9956   \n4    North Milwaukee State Bank        Milwaukee  WI  20364   \n\n                 Acquiring Institution        Closing Date       Updated Date  \n0                         Today's Bank  September 23, 2016  November 17, 2016  \n1                          United Bank     August 19, 2016  November 17, 2016  \n2  First-Citizens Bank & Trust Company         May 6, 2016  September 6, 2016  \n3           The Bank of Fayette County      April 29, 2016  September 6, 2016  \n4  First-Citizens Bank & Trust Company      March 11, 2016      June 16, 2016  "
     },
     "execution_count": 50,
     "metadata": {},
     "output_type": "execute_result"
    }
   ],
   "source": [
    "tables = pd.read_html('examples/fdic_failed_bank_list.html')\n",
    "len(tables)\n",
    "failures = tables[0]\n",
    "failures.head()"
   ]
  },
  {
   "cell_type": "code",
   "execution_count": 51,
   "metadata": {},
   "outputs": [
    {
     "data": {
      "text/plain": "2010    157\n2009    140\n2011     92\n2012     51\n2008     25\n       ... \n2004      4\n2001      4\n2007      3\n2003      3\n2000      2\nName: Closing Date, Length: 15, dtype: int64"
     },
     "execution_count": 51,
     "metadata": {},
     "output_type": "execute_result"
    }
   ],
   "source": [
    "close_timestamps = pd.to_datetime(failures['Closing Date'])\n",
    "close_timestamps.dt.year.value_counts()"
   ]
  },
  {
   "cell_type": "markdown",
   "metadata": {
    "deletable": true,
    "editable": true
   },
   "source": [
    "#### Parsing XML with lxml.objectify"
   ]
  },
  {
   "cell_type": "markdown",
   "metadata": {
    "deletable": true,
    "editable": true
   },
   "source": [
    "<INDICATOR>\n",
    "  <INDICATOR_SEQ>373889</INDICATOR_SEQ>\n",
    "  <PARENT_SEQ></PARENT_SEQ>\n",
    "  <AGENCY_NAME>Metro-North Railroad</AGENCY_NAME>\n",
    "  <INDICATOR_NAME>Escalator Availability</INDICATOR_NAME>\n",
    "  <DESCRIPTION>Percent of the time that escalators are operational\n",
    "  systemwide. The availability rate is based on physical observations performed\n",
    "  the morning of regular business days only. This is a new indicator the agency\n",
    "  began reporting in 2009.</DESCRIPTION>\n",
    "  <PERIOD_YEAR>2011</PERIOD_YEAR>\n",
    "  <PERIOD_MONTH>12</PERIOD_MONTH>\n",
    "  <CATEGORY>Service Indicators</CATEGORY>\n",
    "  <FREQUENCY>M</FREQUENCY>\n",
    "  <DESIRED_CHANGE>U</DESIRED_CHANGE>\n",
    "  <INDICATOR_UNIT>%</INDICATOR_UNIT>\n",
    "  <DECIMAL_PLACES>1</DECIMAL_PLACES>\n",
    "  <YTD_TARGET>97.00</YTD_TARGET>\n",
    "  <YTD_ACTUAL></YTD_ACTUAL>\n",
    "  <MONTHLY_TARGET>97.00</MONTHLY_TARGET>\n",
    "  <MONTHLY_ACTUAL></MONTHLY_ACTUAL>\n",
    "</INDICATOR>"
   ]
  },
  {
   "cell_type": "code",
   "execution_count": 52,
   "metadata": {},
   "outputs": [],
   "source": [
    "from lxml import objectify\n",
    "\n",
    "path = 'datasets/mta_perf/Performance_MNR.xml'\n",
    "parsed = objectify.parse(open(path))\n",
    "root = parsed.getroot()"
   ]
  },
  {
   "cell_type": "code",
   "execution_count": 53,
   "metadata": {},
   "outputs": [],
   "source": [
    "data = []\n",
    "\n",
    "skip_fields = ['PARENT_SEQ', 'INDICATOR_SEQ',\n",
    "               'DESIRED_CHANGE', 'DECIMAL_PLACES']\n",
    "\n",
    "for elt in root.INDICATOR:\n",
    "    el_data = {}\n",
    "    for child in elt.getchildren():\n",
    "        if child.tag in skip_fields:\n",
    "            continue\n",
    "        el_data[child.tag] = child.pyval\n",
    "    data.append(el_data)"
   ]
  },
  {
   "cell_type": "code",
   "execution_count": 54,
   "metadata": {},
   "outputs": [
    {
     "data": {
      "text/html": "<div>\n<style scoped>\n    .dataframe tbody tr th:only-of-type {\n        vertical-align: middle;\n    }\n\n    .dataframe tbody tr th {\n        vertical-align: top;\n    }\n\n    .dataframe thead th {\n        text-align: right;\n    }\n</style>\n<table border=\"1\" class=\"dataframe\">\n  <thead>\n    <tr style=\"text-align: right;\">\n      <th></th>\n      <th>AGENCY_NAME</th>\n      <th>INDICATOR_NAME</th>\n      <th>DESCRIPTION</th>\n      <th>PERIOD_YEAR</th>\n      <th>PERIOD_MONTH</th>\n      <th>CATEGORY</th>\n      <th>FREQUENCY</th>\n      <th>INDICATOR_UNIT</th>\n      <th>YTD_TARGET</th>\n      <th>YTD_ACTUAL</th>\n      <th>MONTHLY_TARGET</th>\n      <th>MONTHLY_ACTUAL</th>\n    </tr>\n  </thead>\n  <tbody>\n    <tr>\n      <th>0</th>\n      <td>Metro-North Railroad</td>\n      <td>On-Time Performance (West of Hudson)</td>\n      <td>Percent of commuter trains that arrive at thei...</td>\n      <td>2008</td>\n      <td>1</td>\n      <td>Service Indicators</td>\n      <td>M</td>\n      <td>%</td>\n      <td>95</td>\n      <td>96.9</td>\n      <td>95</td>\n      <td>96.9</td>\n    </tr>\n    <tr>\n      <th>1</th>\n      <td>Metro-North Railroad</td>\n      <td>On-Time Performance (West of Hudson)</td>\n      <td>Percent of commuter trains that arrive at thei...</td>\n      <td>2008</td>\n      <td>2</td>\n      <td>Service Indicators</td>\n      <td>M</td>\n      <td>%</td>\n      <td>95</td>\n      <td>96</td>\n      <td>95</td>\n      <td>95</td>\n    </tr>\n    <tr>\n      <th>2</th>\n      <td>Metro-North Railroad</td>\n      <td>On-Time Performance (West of Hudson)</td>\n      <td>Percent of commuter trains that arrive at thei...</td>\n      <td>2008</td>\n      <td>3</td>\n      <td>Service Indicators</td>\n      <td>M</td>\n      <td>%</td>\n      <td>95</td>\n      <td>96.3</td>\n      <td>95</td>\n      <td>96.9</td>\n    </tr>\n    <tr>\n      <th>3</th>\n      <td>Metro-North Railroad</td>\n      <td>On-Time Performance (West of Hudson)</td>\n      <td>Percent of commuter trains that arrive at thei...</td>\n      <td>2008</td>\n      <td>4</td>\n      <td>Service Indicators</td>\n      <td>M</td>\n      <td>%</td>\n      <td>95</td>\n      <td>96.8</td>\n      <td>95</td>\n      <td>98.3</td>\n    </tr>\n    <tr>\n      <th>4</th>\n      <td>Metro-North Railroad</td>\n      <td>On-Time Performance (West of Hudson)</td>\n      <td>Percent of commuter trains that arrive at thei...</td>\n      <td>2008</td>\n      <td>5</td>\n      <td>Service Indicators</td>\n      <td>M</td>\n      <td>%</td>\n      <td>95</td>\n      <td>96.6</td>\n      <td>95</td>\n      <td>95.8</td>\n    </tr>\n  </tbody>\n</table>\n</div>",
      "text/plain": "            AGENCY_NAME                        INDICATOR_NAME  \\\n0  Metro-North Railroad  On-Time Performance (West of Hudson)   \n1  Metro-North Railroad  On-Time Performance (West of Hudson)   \n2  Metro-North Railroad  On-Time Performance (West of Hudson)   \n3  Metro-North Railroad  On-Time Performance (West of Hudson)   \n4  Metro-North Railroad  On-Time Performance (West of Hudson)   \n\n                                         DESCRIPTION  PERIOD_YEAR  \\\n0  Percent of commuter trains that arrive at thei...         2008   \n1  Percent of commuter trains that arrive at thei...         2008   \n2  Percent of commuter trains that arrive at thei...         2008   \n3  Percent of commuter trains that arrive at thei...         2008   \n4  Percent of commuter trains that arrive at thei...         2008   \n\n   PERIOD_MONTH            CATEGORY FREQUENCY INDICATOR_UNIT YTD_TARGET  \\\n0             1  Service Indicators         M              %         95   \n1             2  Service Indicators         M              %         95   \n2             3  Service Indicators         M              %         95   \n3             4  Service Indicators         M              %         95   \n4             5  Service Indicators         M              %         95   \n\n  YTD_ACTUAL MONTHLY_TARGET MONTHLY_ACTUAL  \n0       96.9             95           96.9  \n1         96             95             95  \n2       96.3             95           96.9  \n3       96.8             95           98.3  \n4       96.6             95           95.8  "
     },
     "execution_count": 54,
     "metadata": {},
     "output_type": "execute_result"
    }
   ],
   "source": [
    "perf = pd.DataFrame(data)\n",
    "perf.head()"
   ]
  },
  {
   "cell_type": "code",
   "execution_count": 55,
   "metadata": {},
   "outputs": [],
   "source": [
    "from io import StringIO\n",
    "tag = '<a href=\"http://www.google.com\">Google</a>'\n",
    "root = objectify.parse(StringIO(tag)).getroot()"
   ]
  },
  {
   "cell_type": "code",
   "execution_count": 56,
   "metadata": {},
   "outputs": [
    {
     "data": {
      "text/plain": "'Google'"
     },
     "execution_count": 56,
     "metadata": {},
     "output_type": "execute_result"
    }
   ],
   "source": [
    "root\n",
    "root.get('href')\n",
    "root.text"
   ]
  },
  {
   "cell_type": "markdown",
   "metadata": {
    "deletable": true,
    "editable": true
   },
   "source": [
    "## Binary Data Formats"
   ]
  },
  {
   "cell_type": "code",
   "execution_count": 57,
   "metadata": {},
   "outputs": [],
   "source": [
    "frame = pd.read_csv('examples/ex1.csv')\n",
    "frame\n",
    "frame.to_pickle('examples/frame_pickle')"
   ]
  },
  {
   "cell_type": "code",
   "execution_count": 58,
   "metadata": {},
   "outputs": [
    {
     "data": {
      "text/html": "<div>\n<style scoped>\n    .dataframe tbody tr th:only-of-type {\n        vertical-align: middle;\n    }\n\n    .dataframe tbody tr th {\n        vertical-align: top;\n    }\n\n    .dataframe thead th {\n        text-align: right;\n    }\n</style>\n<table border=\"1\" class=\"dataframe\">\n  <thead>\n    <tr style=\"text-align: right;\">\n      <th></th>\n      <th>a</th>\n      <th>b</th>\n      <th>c</th>\n      <th>d</th>\n      <th>message</th>\n    </tr>\n  </thead>\n  <tbody>\n    <tr>\n      <th>0</th>\n      <td>1</td>\n      <td>2</td>\n      <td>3</td>\n      <td>4</td>\n      <td>hello</td>\n    </tr>\n    <tr>\n      <th>1</th>\n      <td>5</td>\n      <td>6</td>\n      <td>7</td>\n      <td>8</td>\n      <td>world</td>\n    </tr>\n    <tr>\n      <th>2</th>\n      <td>9</td>\n      <td>10</td>\n      <td>11</td>\n      <td>12</td>\n      <td>foo</td>\n    </tr>\n  </tbody>\n</table>\n</div>",
      "text/plain": "   a   b   c   d message\n0  1   2   3   4   hello\n1  5   6   7   8   world\n2  9  10  11  12     foo"
     },
     "execution_count": 58,
     "metadata": {},
     "output_type": "execute_result"
    }
   ],
   "source": [
    "pd.read_pickle('examples/frame_pickle')"
   ]
  },
  {
   "cell_type": "code",
   "execution_count": 59,
   "metadata": {},
   "outputs": [],
   "source": [
    "!rm examples/frame_pickle"
   ]
  },
  {
   "cell_type": "markdown",
   "metadata": {
    "deletable": true,
    "editable": true
   },
   "source": [
    "### Using HDF5 Format"
   ]
  },
  {
   "cell_type": "markdown",
   "execution_count": null,
   "metadata": {},
   "outputs": [],
   "source": [
    "pip install tables\n",
    "DONE"
   ]
  },
  {
   "cell_type": "code",
   "execution_count": 61,
   "metadata": {},
   "outputs": [
    {
     "data": {
      "text/plain": "<class 'pandas.io.pytables.HDFStore'>\nFile path: mydata.h5"
     },
     "execution_count": 61,
     "metadata": {},
     "output_type": "execute_result"
    }
   ],
   "source": [
    "frame = pd.DataFrame({'a': np.random.randn(100)})\n",
    "store = pd.HDFStore('mydata.h5')\n",
    "store['obj1'] = frame\n",
    "store['obj1_col'] = frame['a']\n",
    "store"
   ]
  },
  {
   "cell_type": "code",
   "execution_count": 62,
   "metadata": {},
   "outputs": [
    {
     "data": {
      "text/html": "<div>\n<style scoped>\n    .dataframe tbody tr th:only-of-type {\n        vertical-align: middle;\n    }\n\n    .dataframe tbody tr th {\n        vertical-align: top;\n    }\n\n    .dataframe thead th {\n        text-align: right;\n    }\n</style>\n<table border=\"1\" class=\"dataframe\">\n  <thead>\n    <tr style=\"text-align: right;\">\n      <th></th>\n      <th>a</th>\n    </tr>\n  </thead>\n  <tbody>\n    <tr>\n      <th>0</th>\n      <td>-1.565657</td>\n    </tr>\n    <tr>\n      <th>1</th>\n      <td>-0.562540</td>\n    </tr>\n    <tr>\n      <th>2</th>\n      <td>-0.032664</td>\n    </tr>\n    <tr>\n      <th>3</th>\n      <td>-0.929006</td>\n    </tr>\n    <tr>\n      <th>4</th>\n      <td>-0.482573</td>\n    </tr>\n    <tr>\n      <th>...</th>\n      <td>...</td>\n    </tr>\n    <tr>\n      <th>95</th>\n      <td>0.910983</td>\n    </tr>\n    <tr>\n      <th>96</th>\n      <td>-1.020903</td>\n    </tr>\n    <tr>\n      <th>97</th>\n      <td>-1.413416</td>\n    </tr>\n    <tr>\n      <th>98</th>\n      <td>1.296608</td>\n    </tr>\n    <tr>\n      <th>99</th>\n      <td>0.252275</td>\n    </tr>\n  </tbody>\n</table>\n<p>100 rows × 1 columns</p>\n</div>",
      "text/plain": "           a\n0  -1.565657\n1  -0.562540\n2  -0.032664\n3  -0.929006\n4  -0.482573\n..       ...\n95  0.910983\n96 -1.020903\n97 -1.413416\n98  1.296608\n99  0.252275\n\n[100 rows x 1 columns]"
     },
     "execution_count": 62,
     "metadata": {},
     "output_type": "execute_result"
    }
   ],
   "source": [
    "store['obj1']"
   ]
  },
  {
   "cell_type": "code",
   "execution_count": 63,
   "metadata": {},
   "outputs": [],
   "source": [
    "store.put('obj2', frame, format='table')\n",
    "store.select('obj2', where=['index >= 10 and index <= 15'])\n",
    "store.close()"
   ]
  },
  {
   "cell_type": "code",
   "execution_count": 64,
   "metadata": {},
   "outputs": [
    {
     "data": {
      "text/html": "<div>\n<style scoped>\n    .dataframe tbody tr th:only-of-type {\n        vertical-align: middle;\n    }\n\n    .dataframe tbody tr th {\n        vertical-align: top;\n    }\n\n    .dataframe thead th {\n        text-align: right;\n    }\n</style>\n<table border=\"1\" class=\"dataframe\">\n  <thead>\n    <tr style=\"text-align: right;\">\n      <th></th>\n      <th>a</th>\n    </tr>\n  </thead>\n  <tbody>\n    <tr>\n      <th>0</th>\n      <td>-1.565657</td>\n    </tr>\n    <tr>\n      <th>1</th>\n      <td>-0.562540</td>\n    </tr>\n    <tr>\n      <th>2</th>\n      <td>-0.032664</td>\n    </tr>\n    <tr>\n      <th>3</th>\n      <td>-0.929006</td>\n    </tr>\n    <tr>\n      <th>4</th>\n      <td>-0.482573</td>\n    </tr>\n  </tbody>\n</table>\n</div>",
      "text/plain": "          a\n0 -1.565657\n1 -0.562540\n2 -0.032664\n3 -0.929006\n4 -0.482573"
     },
     "execution_count": 64,
     "metadata": {},
     "output_type": "execute_result"
    }
   ],
   "source": [
    "frame.to_hdf('mydata.h5', 'obj3', format='table')\n",
    "pd.read_hdf('mydata.h5', 'obj3', where=['index < 5'])"
   ]
  },
  {
   "cell_type": "code",
   "execution_count": 66,
   "metadata": {},
   "outputs": [],
   "source": [
    "import os"
   ]
  },
  {
   "cell_type": "code",
   "execution_count": 67,
   "metadata": {},
   "outputs": [],
   "source": [
    "os.remove('mydata.h5')"
   ]
  },
  {
   "cell_type": "markdown",
   "metadata": {
    "deletable": true,
    "editable": true
   },
   "source": [
    "### Reading Microsoft Excel Files"
   ]
  },
  {
   "cell_type": "code",
   "execution_count": 69,
   "metadata": {},
   "outputs": [],
   "source": [
    "xlsx = pd.ExcelFile('examples/ex1.xlsx')"
   ]
  },
  {
   "cell_type": "code",
   "execution_count": 70,
   "metadata": {},
   "outputs": [
    {
     "data": {
      "text/html": "<div>\n<style scoped>\n    .dataframe tbody tr th:only-of-type {\n        vertical-align: middle;\n    }\n\n    .dataframe tbody tr th {\n        vertical-align: top;\n    }\n\n    .dataframe thead th {\n        text-align: right;\n    }\n</style>\n<table border=\"1\" class=\"dataframe\">\n  <thead>\n    <tr style=\"text-align: right;\">\n      <th></th>\n      <th>Unnamed: 0</th>\n      <th>a</th>\n      <th>b</th>\n      <th>c</th>\n      <th>d</th>\n      <th>message</th>\n    </tr>\n  </thead>\n  <tbody>\n    <tr>\n      <th>0</th>\n      <td>0</td>\n      <td>1</td>\n      <td>2</td>\n      <td>3</td>\n      <td>4</td>\n      <td>hello</td>\n    </tr>\n    <tr>\n      <th>1</th>\n      <td>1</td>\n      <td>5</td>\n      <td>6</td>\n      <td>7</td>\n      <td>8</td>\n      <td>world</td>\n    </tr>\n    <tr>\n      <th>2</th>\n      <td>2</td>\n      <td>9</td>\n      <td>10</td>\n      <td>11</td>\n      <td>12</td>\n      <td>foo</td>\n    </tr>\n  </tbody>\n</table>\n</div>",
      "text/plain": "   Unnamed: 0  a   b   c   d message\n0           0  1   2   3   4   hello\n1           1  5   6   7   8   world\n2           2  9  10  11  12     foo"
     },
     "execution_count": 70,
     "metadata": {},
     "output_type": "execute_result"
    }
   ],
   "source": [
    "pd.read_excel(xlsx, 'Sheet1')"
   ]
  },
  {
   "cell_type": "code",
   "execution_count": 71,
   "metadata": {},
   "outputs": [
    {
     "data": {
      "text/html": "<div>\n<style scoped>\n    .dataframe tbody tr th:only-of-type {\n        vertical-align: middle;\n    }\n\n    .dataframe tbody tr th {\n        vertical-align: top;\n    }\n\n    .dataframe thead th {\n        text-align: right;\n    }\n</style>\n<table border=\"1\" class=\"dataframe\">\n  <thead>\n    <tr style=\"text-align: right;\">\n      <th></th>\n      <th>Unnamed: 0</th>\n      <th>a</th>\n      <th>b</th>\n      <th>c</th>\n      <th>d</th>\n      <th>message</th>\n    </tr>\n  </thead>\n  <tbody>\n    <tr>\n      <th>0</th>\n      <td>0</td>\n      <td>1</td>\n      <td>2</td>\n      <td>3</td>\n      <td>4</td>\n      <td>hello</td>\n    </tr>\n    <tr>\n      <th>1</th>\n      <td>1</td>\n      <td>5</td>\n      <td>6</td>\n      <td>7</td>\n      <td>8</td>\n      <td>world</td>\n    </tr>\n    <tr>\n      <th>2</th>\n      <td>2</td>\n      <td>9</td>\n      <td>10</td>\n      <td>11</td>\n      <td>12</td>\n      <td>foo</td>\n    </tr>\n  </tbody>\n</table>\n</div>",
      "text/plain": "   Unnamed: 0  a   b   c   d message\n0           0  1   2   3   4   hello\n1           1  5   6   7   8   world\n2           2  9  10  11  12     foo"
     },
     "execution_count": 71,
     "metadata": {},
     "output_type": "execute_result"
    }
   ],
   "source": [
    "frame = pd.read_excel('examples/ex1.xlsx', 'Sheet1')\n",
    "frame"
   ]
  },
  {
   "cell_type": "code",
   "execution_count": 74,
   "metadata": {},
   "outputs": [],
   "source": [
    "writer = pd.ExcelWriter('examples/ex2.xlsx')\n",
    "frame.to_excel(writer, 'Sheet1')\n",
    "writer.save()"
   ]
  },
  {
   "cell_type": "code",
   "execution_count": 75,
   "metadata": {},
   "outputs": [],
   "source": [
    "frame.to_excel('examples/ex2.xlsx')"
   ]
  },
  {
   "cell_type": "code",
   "execution_count": 76,
   "metadata": {},
   "outputs": [],
   "source": [
    "!rm examples/ex2.xlsx"
   ]
  },
  {
   "cell_type": "markdown",
   "metadata": {
    "deletable": true,
    "editable": true
   },
   "source": [
    "## Interacting with Web APIs"
   ]
  },
  {
   "cell_type": "code",
   "execution_count": 77,
   "metadata": {},
   "outputs": [
    {
     "data": {
      "text/plain": "<Response [200]>"
     },
     "execution_count": 77,
     "metadata": {},
     "output_type": "execute_result"
    }
   ],
   "source": [
    "import requests\n",
    "url = 'https://api.github.com/repos/pandas-dev/pandas/issues'\n",
    "resp = requests.get(url)\n",
    "resp"
   ]
  },
  {
   "cell_type": "code",
   "execution_count": 81,
   "metadata": {},
   "outputs": [
    {
     "data": {
      "text/plain": "   'id': 5065490,\n   'node_id': 'MDk6TWlsZXN0b25lNTA2NTQ5MA==',\n   'number': 70,\n   'title': '1.0.2',\n   'description': 'on-merge: backport to 1.0.x',\n   'creator': {'login': 'jorisvandenbossche',\n    'id': 1020496,\n    'node_id': 'MDQ6VXNlcjEwMjA0OTY=',\n    'avatar_url': 'https://avatars2.githubusercontent.com/u/1020496?v=4',\n    'gravatar_id': '',\n    'url': 'https://api.github.com/users/jorisvandenbossche',\n    'html_url': 'https://github.com/jorisvandenbossche',\n    'followers_url': 'https://api.github.com/users/jorisvandenbossche/followers',\n    'following_url': 'https://api.github.com/users/jorisvandenbossche/following{/other_user}',\n    'gists_url': 'https://api.github.com/users/jorisvandenbossche/gists{/gist_id}',\n    'starred_url': 'https://api.github.com/users/jorisvandenbossche/starred{/owner}{/repo}',\n    'subscriptions_url': 'https://api.github.com/users/jorisvandenbossche/subscriptions',\n    'organizations_url': 'https://api.github.com/users/jorisvandenbossche/orgs',\n    'repos_url': 'https://api.github.com/users/jorisvandenbossche/repos',\n    'events_url': 'https://api.github.com/users/jorisvandenbossche/events{/privacy}',\n    'received_events_url': 'https://api.github.com/users/jorisvandenbossche/received_events',\n    'type': 'User',\n    'site_admin': False},\n   'open_issues': 19,\n   'closed_issues': 10,\n   'state': 'open',\n   'created_at': '2020-02-03T09:13:39Z',\n   'updated_at': '2020-02-08T08:15:36Z',\n   'due_on': '2020-02-17T08:00:00Z',\n   'closed_at': None},\n  'comments': 2,\n  'created_at': '2020-02-07T12:51:01Z',\n  'updated_at': '2020-02-08T01:02:17Z',\n  'closed_at': None,\n  'author_association': 'NONE',\n  'body': \"#### Code Sample\\r\\n\\r\\n```python\\r\\nimport pandas as pd\\r\\nprint(pd.Timestamp('2101-01-01 00:00:00') - pd.Timestamp('1688-01-01 00:00:00'))\\r\\n```\\r\\n\\r\\nOutputs:\\r\\n```\\r\\nTypeError: unsupported operand type(s) for -: 'Timestamp' and 'Timestamp'\\r\\n```\\r\\n\\r\\n#### Problem description\\r\\n\\r\\nThe difference between the timestamps is too large for the Timedelta object. This can be traced back to these lines:\\r\\n\\r\\nhttps://github.com/pandas-dev/pandas/blob/2dadd0f48949182dda412eb4032b5234c43c83c1/pandas/_libs/tslibs/c_timestamp.pyx#L303\\r\\n\\r\\nFor the example we can see that\\r\\n```python\\r\\nprint(pd.Timedelta(pd.Timestamp('2101-01-01 00:00:00').value - pd.Timestamp('1688-01-01 00:00:00').value))\\r\\n```\\r\\nresults in\\r\\n```OverflowError: int too big to convert```\\r\\n\\r\\n#### Expected Output\\r\\n\\r\\nIdeally, the expected output is:\\r\\n```\\r\\n150845 days 00:00:00\\r\\n```\\r\\n\\r\\nNote the expected output matches that of pandas 0.25.3.\\r\\n\\r\\nAlternatively, the error message should be at least somewhat informative, for example by propagating the OverflowError (removing the try/except block from L302-305) or raising a new TypeError (similar to L296). \\r\\n\\r\\n#### Output of ``pd.show_versions()``\\r\\n\\r\\n<details>\\r\\n\\r\\nINSTALLED VERSIONS\\r\\n------------------\\r\\ncommit           : None\\r\\npython           : 3.7.6.final.0\\r\\npython-bits      : 64\\r\\nOS               : Windows\\r\\nOS-release       : 10\\r\\nmachine          : AMD64\\r\\nbyteorder        : little\\r\\nLC_ALL           : None\\r\\nLANG             : None\\r\\nLOCALE           : None.None\\r\\n\\r\\npandas           : 1.0.1\\r\\nnumpy            : 1.18.0\\r\\npytz             : 2019.3\\r\\ndateutil         : 2.8.1\\r\\npip              : 19.3.1\\r\\nsetuptools       : 42.0.2.post20191201\\r\\nCython           : None\\r\\npytest           : 5.3.2\\r\\nhypothesis       : None\\r\\nsphinx           : None\\r\\nblosc            : None\\r\\nfeather          : None\\r\\nxlsxwriter       : None\\r\\nlxml.etree       : None\\r\\nhtml5lib         : None\\r\\npymysql          : None\\r\\npsycopg2         : None\\r\\njinja2           : 2.11.1\\r\\nIPython          : 7.11.1\\r\\npandas_datareader: None\\r\\nbs4              : None\\r\\nbottleneck       : None\\r\\nfastparquet      : 0.3.2\\r\\ngcsfs            : None\\r\\nlxml.etree       : None\\r\\nmatplotlib       : 3.1.2\\r\\nnumexpr          : None\\r\\nodfpy            : None\\r\\nopenpyxl         : None\\r\\npandas_gbq       : None\\r\\npyarrow          : 0.15.1\\r\\npytables         : None\\r\\npytest           : 5.3.2\\r\\npyxlsb           : None\\r\\ns3fs             : None\\r\\nscipy            : 1.4.1\\r\\nsqlalchemy       : None\\r\\ntables           : None\\r\\ntabulate         : None\\r\\nxarray           : None\\r\\nxlrd             : 1.2.0\\r\\nxlwt             : None\\r\\nxlsxwriter       : None\\r\\nnumba            : 0.46.0\\r\\n\\r\\n</details>\\r\\n\"},\n {'url': 'https://api.github.com/repos/pandas-dev/pandas/issues/31773',\n  'repository_url': 'https://api.github.com/repos/pandas-dev/pandas',\n  'labels_url': 'https://api.github.com/repos/pandas-dev/pandas/issues/31773/labels{/name}',\n  'comments_url': 'https://api.github.com/repos/pandas-dev/pandas/issues/31773/comments',\n  'events_url': 'https://api.github.com/repos/pandas-dev/pandas/issues/31773/events',\n  'html_url': 'https://github.com/pandas-dev/pandas/pull/31773',\n  'id': 561597736,\n  'node_id': 'MDExOlB1bGxSZXF1ZXN0MzcyMzc5MDM4',\n  'number': 31773,\n  'title': 'BUG: fix StringArray/PandasArray setitem with slice',\n  'user': {'login': 'jorisvandenbossche',\n   'id': 1020496,\n   'node_id': 'MDQ6VXNlcjEwMjA0OTY=',\n   'avatar_url': 'https://avatars2.githubusercontent.com/u/1020496?v=4',\n   'gravatar_id': '',\n   'url': 'https://api.github.com/users/jorisvandenbossche',\n   'html_url': 'https://github.com/jorisvandenbossche',\n   'followers_url': 'https://api.github.com/users/jorisvandenbossche/followers',\n   'following_url': 'https://api.github.com/users/jorisvandenbossche/following{/other_user}',\n   'gists_url': 'https://api.github.com/users/jorisvandenbossche/gists{/gist_id}',\n   'starred_url': 'https://api.github.com/users/jorisvandenbossche/starred{/owner}{/repo}',\n   'subscriptions_url': 'https://api.github.com/users/jorisvandenbossche/subscriptions',\n   'organizations_url': 'https://api.github.com/users/jorisvandenbossche/orgs',\n   'repos_url': 'https://api.github.com/users/jorisvandenbossche/repos',\n   'events_url': 'https://api.github.com/users/jorisvandenbossche/events{/privacy}',\n   'received_events_url': 'https://api.github.com/users/jorisvandenbossche/received_events',\n   'type': 'User',\n   'site_admin': False},\n  'labels': [{'id': 76811,\n    'node_id': 'MDU6TGFiZWw3NjgxMQ==',\n    'url': 'https://api.github.com/repos/pandas-dev/pandas/labels/Bug',\n    'name': 'Bug',\n    'color': 'e10c02',\n    'default': False,\n    'description': None},\n   {'id': 2822098,\n    'node_id': 'MDU6TGFiZWwyODIyMDk4',\n    'url': 'https://api.github.com/repos/pandas-dev/pandas/labels/Indexing',\n    'name': 'Indexing',\n    'color': '0b02e1',\n    'default': False,\n    'description': 'Related to indexing on series/frames, not to indexes themselves'}],\n  'state': 'open',\n  'locked': False,\n  'assignee': None,\n  'assignees': [],\n  'milestone': {'url': 'https://api.github.com/repos/pandas-dev/pandas/milestones/70',\n   'html_url': 'https://github.com/pandas-dev/pandas/milestone/70',\n   'labels_url': 'https://api.github.com/repos/pandas-dev/pandas/milestones/70/labels',\n   'id': 5065490,\n   'node_id': 'MDk6TWlsZXN0b25lNTA2NTQ5MA==',\n   'number': 70,\n   'title': '1.0.2',\n   'description': 'on-merge: backport to 1.0.x',\n   'creator': {'login': 'jorisvandenbossche',\n    'id': 1020496,\n    'node_id': 'MDQ6VXNlcjEwMjA0OTY=',\n    'avatar_url': 'https://avatars2.githubusercontent.com/u/1020496?v=4',\n    'gravatar_id': '',\n    'url': 'https://api.github.com/users/jorisvandenbossche',\n    'html_url': 'https://github.com/jorisvandenbossche',\n    'followers_url': 'https://api.github.com/users/jorisvandenbossche/followers',\n    'following_url': 'https://api.github.com/users/jorisvandenbossche/following{/other_user}',\n    'gists_url': 'https://api.github.com/users/jorisvandenbossche/gists{/gist_id}',\n    'starred_url': 'https://api.github.com/users/jorisvandenbossche/starred{/owner}{/repo}',\n    'subscriptions_url': 'https://api.github.com/users/jorisvandenbossche/subscriptions',\n    'organizations_url': 'https://api.github.com/users/jorisvandenbossche/orgs',\n    'repos_url': 'https://api.github.com/users/jorisvandenbossche/repos',\n    'events_url': 'https://api.github.com/users/jorisvandenbossche/events{/privacy}',\n    'received_events_url': 'https://api.github.com/users/jorisvandenbossche/received_events',\n    'type': 'User',\n    'site_admin': False},\n   'open_issues': 19,\n   'closed_issues': 10,\n   'state': 'open',\n   'created_at': '2020-02-03T09:13:39Z',\n   'updated_at': '2020-02-08T08:15:36Z',\n   'due_on': '2020-02-17T08:00:00Z',\n   'closed_at': None},\n  'comments': 0,\n  'created_at': '2020-02-07T12:03:45Z',\n  'updated_at': '2020-02-07T16:25:58Z',\n  'closed_at': None,\n  'author_association': 'MEMBER',\n  'pull_request': {'url': 'https://api.github.com/repos/pandas-dev/pandas/pulls/31773',\n   'html_url': 'https://github.com/pandas-dev/pandas/pull/31773',\n   'diff_url': 'https://github.com/pandas-dev/pandas/pull/31773.diff',\n   'patch_url': 'https://github.com/pandas-dev/pandas/pull/31773.patch'},\n  'body': 'Closes #31772'},\n {'url': 'https://api.github.com/repos/pandas-dev/pandas/issues/31772',\n  'repository_url': 'https://api.github.com/repos/pandas-dev/pandas',\n  'labels_url': 'https://api.github.com/repos/pandas-dev/pandas/issues/31772/labels{/name}',\n  'comments_url': 'https://api.github.com/repos/pandas-dev/pandas/issues/31772/comments',\n  'events_url': 'https://api.github.com/repos/pandas-dev/pandas/issues/31772/events',\n  'html_url': 'https://github.com/pandas-dev/pandas/issues/31772',\n  'id': 561591791,\n  'node_id': 'MDU6SXNzdWU1NjE1OTE3OTE=',\n  'number': 31772,\n  'title': 'BUG: setitem on string dtype with slices fails',\n  'user': {'login': 'jorisvandenbossche',\n   'id': 1020496,\n   'node_id': 'MDQ6VXNlcjEwMjA0OTY=',\n   'avatar_url': 'https://avatars2.githubusercontent.com/u/1020496?v=4',\n   'gravatar_id': '',\n   'url': 'https://api.github.com/users/jorisvandenbossche',\n   'html_url': 'https://github.com/jorisvandenbossche',\n   'followers_url': 'https://api.github.com/users/jorisvandenbossche/followers',\n   'following_url': 'https://api.github.com/users/jorisvandenbossche/following{/other_user}',\n   'gists_url': 'https://api.github.com/users/jorisvandenbossche/gists{/gist_id}',\n   'starred_url': 'https://api.github.com/users/jorisvandenbossche/starred{/owner}{/repo}',\n   'subscriptions_url': 'https://api.github.com/users/jorisvandenbossche/subscriptions',\n   'organizations_url': 'https://api.github.com/users/jorisvandenbossche/orgs',\n   'repos_url': 'https://api.github.com/users/jorisvandenbossche/repos',\n   'events_url': 'https://api.github.com/users/jorisvandenbossche/events{/privacy}',\n   'received_events_url': 'https://api.github.com/users/jorisvandenbossche/received_events',\n   'type': 'User',\n   'site_admin': False},\n  'labels': [{'id': 76811,\n    'node_id': 'MDU6TGFiZWw3NjgxMQ==',\n    'url': 'https://api.github.com/repos/pandas-dev/pandas/labels/Bug',\n    'name': 'Bug',\n    'color': 'e10c02',\n    'default': False,\n    'description': None}],\n  'state': 'open',\n  'locked': False,\n  'assignee': None,\n  'assignees': [],\n  'milestone': {'url': 'https://api.github.com/repos/pandas-dev/pandas/milestones/70',\n   'html_url': 'https://github.com/pandas-dev/pandas/milestone/70',\n   'labels_url': 'https://api.github.com/repos/pandas-dev/pandas/milestones/70/labels',\n   'id': 5065490,\n   'node_id': 'MDk6TWlsZXN0b25lNTA2NTQ5MA==',\n   'number': 70,\n   'title': '1.0.2',\n   'description': 'on-merge: backport to 1.0.x',\n   'creator': {'login': 'jorisvandenbossche',\n    'id': 1020496,\n    'node_id': 'MDQ6VXNlcjEwMjA0OTY=',\n    'avatar_url': 'https://avatars2.githubusercontent.com/u/1020496?v=4',\n    'gravatar_id': '',\n    'url': 'https://api.github.com/users/jorisvandenbossche',\n    'html_url': 'https://github.com/jorisvandenbossche',\n    'followers_url': 'https://api.github.com/users/jorisvandenbossche/followers',\n    'following_url': 'https://api.github.com/users/jorisvandenbossche/following{/other_user}',\n    'gists_url': 'https://api.github.com/users/jorisvandenbossche/gists{/gist_id}',\n    'starred_url': 'https://api.github.com/users/jorisvandenbossche/starred{/owner}{/repo}',\n    'subscriptions_url': 'https://api.github.com/users/jorisvandenbossche/subscriptions',\n    'organizations_url': 'https://api.github.com/users/jorisvandenbossche/orgs',\n    'repos_url': 'https://api.github.com/users/jorisvandenbossche/repos',\n    'events_url': 'https://api.github.com/users/jorisvandenbossche/events{/privacy}',\n    'received_events_url': 'https://api.github.com/users/jorisvandenbossche/received_events',\n    'type': 'User',\n    'site_admin': False},\n   'open_issues': 19,\n   'closed_issues': 10,\n   'state': 'open',\n   'created_at': '2020-02-03T09:13:39Z',\n   'updated_at': '2020-02-08T08:15:36Z',\n   'due_on': '2020-02-17T08:00:00Z',\n   'closed_at': None},\n  'comments': 0,\n  'created_at': '2020-02-07T11:50:24Z',\n  'updated_at': '2020-02-07T11:50:24Z',\n  'closed_at': None,\n  'author_association': 'MEMBER',\n  'body': '\\r\\n```\\r\\nIn [33]: df = pd.DataFrame({\\'A\\': [\\'a\\', \\'b\\', \\'c\\']}, dtype=\\'string\\')   \\r\\n\\r\\nIn [34]: df.loc[0:, \\'A\\'] = \"test\"  \\r\\n---------------------------------------------------------------------------\\r\\nIndexError                                Traceback (most recent call last)\\r\\n<ipython-input-34-bc65087be9d7> in <module>\\r\\n----> 1 df.loc[0:, \\'A\\'] = \"test\"\\r\\n\\r\\n~/scipy/pandas/pandas/core/indexing.py in __setitem__(self, key, value)\\r\\n    629             key = com.apply_if_callable(key, self.obj)\\r\\n    630         indexer = self._get_setitem_indexer(key)\\r\\n--> 631         self._setitem_with_indexer(indexer, value)\\r\\n    632 \\r\\n    633     def _validate_key(self, key, axis: int):\\r\\n\\r\\n~/scipy/pandas/pandas/core/indexing.py in _setitem_with_indexer(self, indexer, value)\\r\\n   1014             # actually do the set\\r\\n   1015             self.obj._consolidate_inplace()\\r\\n-> 1016             self.obj._data = self.obj._data.setitem(indexer=indexer, value=value)\\r\\n   1017             self.obj._maybe_update_cacher(clear=True)\\r\\n   1018 \\r\\n\\r\\n~/scipy/pandas/pandas/core/internals/managers.py in setitem(self, **kwargs)\\r\\n    538 \\r\\n    539     def setitem(self, **kwargs):\\r\\n--> 540         return self.apply(\"setitem\", **kwargs)\\r\\n    541 \\r\\n    542     def putmask(self, **kwargs):\\r\\n\\r\\n~/scipy/pandas/pandas/core/internals/managers.py in apply(self, f, filter, **kwargs)\\r\\n    417                 applied = b.apply(f, **kwargs)\\r\\n    418             else:\\r\\n--> 419                 applied = getattr(b, f)(**kwargs)\\r\\n    420             result_blocks = _extend_blocks(applied, result_blocks)\\r\\n    421 \\r\\n\\r\\n~/scipy/pandas/pandas/core/internals/blocks.py in setitem(self, indexer, value)\\r\\n   1801 \\r\\n   1802         check_setitem_lengths(indexer, value, self.values)\\r\\n-> 1803         self.values[indexer] = value\\r\\n   1804         return self\\r\\n   1805 \\r\\n\\r\\n~/scipy/pandas/pandas/core/arrays/string_.py in __setitem__(self, key, value)\\r\\n    260                 raise ValueError(\"Must provide strings.\")\\r\\n    261 \\r\\n--> 262         super().__setitem__(key, value)\\r\\n    263 \\r\\n    264     def fillna(self, value=None, method=None, limit=None):\\r\\n\\r\\n~/scipy/pandas/pandas/core/arrays/numpy_.py in __setitem__(self, key, value)\\r\\n    273             value = np.asarray(value, dtype=self._ndarray.dtype)\\r\\n    274 \\r\\n--> 275         self._ndarray[key] = value\\r\\n    276 \\r\\n    277     def __len__(self) -> int:\\r\\n\\r\\nIndexError: arrays used as indices must be of integer (or boolean) type\\r\\n```'},\n {'url': 'https://api.github.com/repos/pandas-dev/pandas/issues/31771',\n  'repository_url': 'https://api.github.com/repos/pandas-dev/pandas',\n  'labels_url': 'https://api.github.com/repos/pandas-dev/pandas/issues/31771/labels{/name}',\n  'comments_url': 'https://api.github.com/repos/pandas-dev/pandas/issues/31771/comments',\n  'events_url': 'https://api.github.com/repos/pandas-dev/pandas/issues/31771/events',\n  'html_url': 'https://github.com/pandas-dev/pandas/issues/31771',\n  'id': 561586460,\n  'node_id': 'MDU6SXNzdWU1NjE1ODY0NjA=',\n  'number': 31771,\n  'title': 'BUG: df.to_markdown() with empty frame incorrect output',\n  'user': {'login': 'ThibTrip',\n   'id': 40694343,\n   'node_id': 'MDQ6VXNlcjQwNjk0MzQz',\n   'avatar_url': 'https://avatars2.githubusercontent.com/u/40694343?v=4',\n   'gravatar_id': '',\n   'url': 'https://api.github.com/users/ThibTrip',\n   'html_url': 'https://github.com/ThibTrip',\n   'followers_url': 'https://api.github.com/users/ThibTrip/followers',\n   'following_url': 'https://api.github.com/users/ThibTrip/following{/other_user}',\n   'gists_url': 'https://api.github.com/users/ThibTrip/gists{/gist_id}',\n   'starred_url': 'https://api.github.com/users/ThibTrip/starred{/owner}{/repo}',\n   'subscriptions_url': 'https://api.github.com/users/ThibTrip/subscriptions',\n   'organizations_url': 'https://api.github.com/users/ThibTrip/orgs',\n   'repos_url': 'https://api.github.com/users/ThibTrip/repos',\n   'events_url': 'https://api.github.com/users/ThibTrip/events{/privacy}',\n   'received_events_url': 'https://api.github.com/users/ThibTrip/received_events',\n   'type': 'User',\n   'site_admin': False},\n  'labels': [],\n  'state': 'open',\n  'locked': False,\n  'assignee': None,\n  'assignees': [],\n  'milestone': None,\n  'comments': 4,\n  'created_at': '2020-02-07T11:39:00Z',\n  'updated_at': '2020-02-07T19:22:53Z',\n  'closed_at': None,\n  'author_association': 'CONTRIBUTOR',\n  'body': \"#### Code Sample, a copy-pastable example if possible\\r\\n\\r\\n```python\\r\\nimport pandas as pd\\r\\n\\r\\ndf = pd.DataFrame({'id': [], 'first_name': [], 'last_name': []}).set_index('id')\\r\\nprint(df.to_markdown())\\r\\n```\\r\\n```\\r\\n| id   | first_name   | last_name   |\\r\\n||\\r\\n```\\r\\n\\r\\n#### Problem description\\r\\n\\r\\nThe markdown output of empty DataFrames does not seem right to me (see Expected Output).\\r\\n\\r\\n#### Expected Output\\r\\n\\r\\n```\\r\\n| id   | first_name   | last_name   |\\r\\n|-----:|-------------:|------------:|\\r\\n```\\r\\n\\r\\n#### Render difference\\r\\n\\r\\n##### Current\\r\\n\\r\\n| id   | first_name   | last_name   |\\r\\n||\\r\\n\\r\\n\\r\\n##### Expected\\r\\n\\r\\n| id   | first_name   | last_name   |\\r\\n|-----:|-------------:|------------:|\\r\\n\\r\\n\\r\\n#### Output of ``pd.show_versions()``\\r\\n\\r\\n<details>\\r\\n\\r\\nINSTALLED VERSIONS\\r\\n------------------\\r\\ncommit           : None\\r\\npython           : 3.7.4.final.0\\r\\npython-bits      : 64\\r\\nOS               : Windows\\r\\nOS-release       : 10\\r\\nmachine          : AMD64\\r\\nprocessor        : Intel64 Family 6 Model 85 Stepping 4, GenuineIntel\\r\\nbyteorder        : little\\r\\nLC_ALL           : None\\r\\nLANG             : None\\r\\nLOCALE           : None.None\\r\\n\\r\\npandas           : 1.0.1\\r\\nnumpy            : 1.18.1\\r\\npytz             : 2019.3\\r\\ndateutil         : 2.8.0\\r\\npip              : 19.2.3\\r\\nsetuptools       : 41.4.0\\r\\nCython           : 0.29.13\\r\\npytest           : 5.2.1\\r\\nhypothesis       : None\\r\\nsphinx           : 2.2.0\\r\\nblosc            : None\\r\\nfeather          : None\\r\\nxlsxwriter       : 1.2.1\\r\\nlxml.etree       : 4.4.1\\r\\nhtml5lib         : 1.0.1\\r\\npymysql          : None\\r\\npsycopg2         : 2.8.4 (dt dec pq3 ext lo64)\\r\\njinja2           : 2.10.3\\r\\nIPython          : 7.8.0\\r\\npandas_datareader: None\\r\\nbs4              : 4.8.0\\r\\nbottleneck       : 1.2.1\\r\\nfastparquet      : None\\r\\ngcsfs            : None\\r\\nlxml.etree       : 4.4.1\\r\\nmatplotlib       : 3.1.1\\r\\nnumexpr          : 2.7.0\\r\\nodfpy            : None\\r\\nopenpyxl         : 3.0.0\\r\\npandas_gbq       : None\\r\\npyarrow          : None\\r\\npytables         : None\\r\\npytest           : 5.2.1\\r\\npyxlsb           : None\\r\\ns3fs             : None\\r\\nscipy            : 1.3.1\\r\\nsqlalchemy       : 1.3.12\\r\\ntables           : 3.5.2\\r\\ntabulate         : 0.8.6\\r\\nxarray           : None\\r\\nxlrd             : 1.2.0\\r\\nxlwt             : 1.3.0\\r\\nxlsxwriter       : 1.2.1\\r\\nnumba            : 0.45.1\\r\\n\\r\\n</details>\\r\\n\"}]"
     },
     "execution_count": 81,
     "metadata": {},
     "output_type": "execute_result"
    }
   ],
   "source": [
    "resp.json()"
   ]
  },
  {
   "cell_type": "code",
   "execution_count": 78,
   "metadata": {},
   "outputs": [
    {
     "data": {
      "text/plain": "'Backport PR #31748: BUG: Fixed encoding of pd.NA with to_json'"
     },
     "execution_count": 78,
     "metadata": {},
     "output_type": "execute_result"
    }
   ],
   "source": [
    "data = resp.json()\n",
    "data[0]['title']"
   ]
  },
  {
   "cell_type": "code",
   "execution_count": 79,
   "metadata": {},
   "outputs": [
    {
     "data": {
      "text/html": "<div>\n<style scoped>\n    .dataframe tbody tr th:only-of-type {\n        vertical-align: middle;\n    }\n\n    .dataframe tbody tr th {\n        vertical-align: top;\n    }\n\n    .dataframe thead th {\n        text-align: right;\n    }\n</style>\n<table border=\"1\" class=\"dataframe\">\n  <thead>\n    <tr style=\"text-align: right;\">\n      <th></th>\n      <th>number</th>\n      <th>title</th>\n      <th>labels</th>\n      <th>state</th>\n    </tr>\n  </thead>\n  <tbody>\n    <tr>\n      <th>0</th>\n      <td>31804</td>\n      <td>Backport PR #31748: BUG: Fixed encoding of pd....</td>\n      <td>[]</td>\n      <td>open</td>\n    </tr>\n    <tr>\n      <th>1</th>\n      <td>31803</td>\n      <td>DEPR: df.loc(axis)</td>\n      <td>[]</td>\n      <td>open</td>\n    </tr>\n    <tr>\n      <th>2</th>\n      <td>31802</td>\n      <td>cumsum regression with groupby call to agg</td>\n      <td>[]</td>\n      <td>open</td>\n    </tr>\n    <tr>\n      <th>3</th>\n      <td>31801</td>\n      <td>to_json index with Null Value Broken in 1.0</td>\n      <td>[{'id': 49379259, 'node_id': 'MDU6TGFiZWw0OTM3...</td>\n      <td>open</td>\n    </tr>\n    <tr>\n      <th>4</th>\n      <td>31800</td>\n      <td>CI Fix w/o tm helper</td>\n      <td>[]</td>\n      <td>open</td>\n    </tr>\n    <tr>\n      <th>...</th>\n      <td>...</td>\n      <td>...</td>\n      <td>...</td>\n      <td>...</td>\n    </tr>\n    <tr>\n      <th>25</th>\n      <td>31775</td>\n      <td>Feature Request: Sample method for Groupby obj...</td>\n      <td>[]</td>\n      <td>open</td>\n    </tr>\n    <tr>\n      <th>26</th>\n      <td>31774</td>\n      <td>REGR: Timestamp subtraction raises TypeError, ...</td>\n      <td>[{'id': 32815646, 'node_id': 'MDU6TGFiZWwzMjgx...</td>\n      <td>open</td>\n    </tr>\n    <tr>\n      <th>27</th>\n      <td>31773</td>\n      <td>BUG: fix StringArray/PandasArray setitem with ...</td>\n      <td>[{'id': 76811, 'node_id': 'MDU6TGFiZWw3NjgxMQ=...</td>\n      <td>open</td>\n    </tr>\n    <tr>\n      <th>28</th>\n      <td>31772</td>\n      <td>BUG: setitem on string dtype with slices fails</td>\n      <td>[{'id': 76811, 'node_id': 'MDU6TGFiZWw3NjgxMQ=...</td>\n      <td>open</td>\n    </tr>\n    <tr>\n      <th>29</th>\n      <td>31771</td>\n      <td>BUG: df.to_markdown() with empty frame incorre...</td>\n      <td>[]</td>\n      <td>open</td>\n    </tr>\n  </tbody>\n</table>\n<p>30 rows × 4 columns</p>\n</div>",
      "text/plain": "    number                                              title  \\\n0    31804  Backport PR #31748: BUG: Fixed encoding of pd....   \n1    31803                                 DEPR: df.loc(axis)   \n2    31802         cumsum regression with groupby call to agg   \n3    31801        to_json index with Null Value Broken in 1.0   \n4    31800                               CI Fix w/o tm helper   \n..     ...                                                ...   \n25   31775  Feature Request: Sample method for Groupby obj...   \n26   31774  REGR: Timestamp subtraction raises TypeError, ...   \n27   31773  BUG: fix StringArray/PandasArray setitem with ...   \n28   31772     BUG: setitem on string dtype with slices fails   \n29   31771  BUG: df.to_markdown() with empty frame incorre...   \n\n                                               labels state  \n0                                                  []  open  \n1                                                  []  open  \n2                                                  []  open  \n3   [{'id': 49379259, 'node_id': 'MDU6TGFiZWw0OTM3...  open  \n4                                                  []  open  \n..                                                ...   ...  \n25                                                 []  open  \n26  [{'id': 32815646, 'node_id': 'MDU6TGFiZWwzMjgx...  open  \n27  [{'id': 76811, 'node_id': 'MDU6TGFiZWw3NjgxMQ=...  open  \n28  [{'id': 76811, 'node_id': 'MDU6TGFiZWw3NjgxMQ=...  open  \n29                                                 []  open  \n\n[30 rows x 4 columns]"
     },
     "execution_count": 79,
     "metadata": {},
     "output_type": "execute_result"
    }
   ],
   "source": [
    "issues = pd.DataFrame(data, columns=['number', 'title',\n",
    "                                     'labels', 'state'])\n",
    "issues"
   ]
  },
  {
   "cell_type": "markdown",
   "metadata": {
    "deletable": true,
    "editable": true
   },
   "source": [
    "## Interacting with Databases"
   ]
  },
  {
   "cell_type": "code",
   "execution_count": 82,
   "metadata": {},
   "outputs": [],
   "source": [
    "import sqlite3\n",
    "query = \"\"\"\n",
    "CREATE TABLE test\n",
    "(a VARCHAR(20), b VARCHAR(20),\n",
    " c REAL,        d INTEGER\n",
    ");\"\"\"\n",
    "con = sqlite3.connect('mydata.sqlite')\n",
    "con.execute(query)\n",
    "con.commit()"
   ]
  },
  {
   "cell_type": "code",
   "execution_count": 83,
   "metadata": {},
   "outputs": [],
   "source": [
    "data = [('Atlanta', 'Georgia', 1.25, 6),\n",
    "        ('Tallahassee', 'Florida', 2.6, 3),\n",
    "        ('Sacramento', 'California', 1.7, 5)]\n",
    "stmt = \"INSERT INTO test VALUES(?, ?, ?, ?)\"\n",
    "con.executemany(stmt, data)\n",
    "con.commit()"
   ]
  },
  {
   "cell_type": "code",
   "execution_count": 84,
   "metadata": {},
   "outputs": [
    {
     "data": {
      "text/plain": "[('Atlanta', 'Georgia', 1.25, 6),\n ('Tallahassee', 'Florida', 2.6, 3),\n ('Sacramento', 'California', 1.7, 5)]"
     },
     "execution_count": 84,
     "metadata": {},
     "output_type": "execute_result"
    }
   ],
   "source": [
    "cursor = con.execute('select * from test')\n",
    "rows = cursor.fetchall()\n",
    "rows"
   ]
  },
  {
   "cell_type": "code",
   "execution_count": 85,
   "metadata": {},
   "outputs": [
    {
     "data": {
      "text/html": "<div>\n<style scoped>\n    .dataframe tbody tr th:only-of-type {\n        vertical-align: middle;\n    }\n\n    .dataframe tbody tr th {\n        vertical-align: top;\n    }\n\n    .dataframe thead th {\n        text-align: right;\n    }\n</style>\n<table border=\"1\" class=\"dataframe\">\n  <thead>\n    <tr style=\"text-align: right;\">\n      <th></th>\n      <th>a</th>\n      <th>b</th>\n      <th>c</th>\n      <th>d</th>\n    </tr>\n  </thead>\n  <tbody>\n    <tr>\n      <th>0</th>\n      <td>Atlanta</td>\n      <td>Georgia</td>\n      <td>1.25</td>\n      <td>6</td>\n    </tr>\n    <tr>\n      <th>1</th>\n      <td>Tallahassee</td>\n      <td>Florida</td>\n      <td>2.60</td>\n      <td>3</td>\n    </tr>\n    <tr>\n      <th>2</th>\n      <td>Sacramento</td>\n      <td>California</td>\n      <td>1.70</td>\n      <td>5</td>\n    </tr>\n  </tbody>\n</table>\n</div>",
      "text/plain": "             a           b     c  d\n0      Atlanta     Georgia  1.25  6\n1  Tallahassee     Florida  2.60  3\n2   Sacramento  California  1.70  5"
     },
     "execution_count": 85,
     "metadata": {},
     "output_type": "execute_result"
    }
   ],
   "source": [
    "cursor.description\n",
    "pd.DataFrame(rows, columns=[x[0] for x in cursor.description])"
   ]
  },
  {
   "cell_type": "code",
   "execution_count": 86,
   "metadata": {},
   "outputs": [
    {
     "data": {
      "text/html": "<div>\n<style scoped>\n    .dataframe tbody tr th:only-of-type {\n        vertical-align: middle;\n    }\n\n    .dataframe tbody tr th {\n        vertical-align: top;\n    }\n\n    .dataframe thead th {\n        text-align: right;\n    }\n</style>\n<table border=\"1\" class=\"dataframe\">\n  <thead>\n    <tr style=\"text-align: right;\">\n      <th></th>\n      <th>a</th>\n      <th>b</th>\n      <th>c</th>\n      <th>d</th>\n    </tr>\n  </thead>\n  <tbody>\n    <tr>\n      <th>0</th>\n      <td>Atlanta</td>\n      <td>Georgia</td>\n      <td>1.25</td>\n      <td>6</td>\n    </tr>\n    <tr>\n      <th>1</th>\n      <td>Tallahassee</td>\n      <td>Florida</td>\n      <td>2.60</td>\n      <td>3</td>\n    </tr>\n    <tr>\n      <th>2</th>\n      <td>Sacramento</td>\n      <td>California</td>\n      <td>1.70</td>\n      <td>5</td>\n    </tr>\n  </tbody>\n</table>\n</div>",
      "text/plain": "             a           b     c  d\n0      Atlanta     Georgia  1.25  6\n1  Tallahassee     Florida  2.60  3\n2   Sacramento  California  1.70  5"
     },
     "execution_count": 86,
     "metadata": {},
     "output_type": "execute_result"
    }
   ],
   "source": [
    "import sqlalchemy as sqla\n",
    "db = sqla.create_engine('sqlite:///mydata.sqlite')\n",
    "pd.read_sql('select * from test', db)"
   ]
  },
  {
   "cell_type": "code",
   "execution_count": 87,
   "metadata": {},
   "outputs": [],
   "source": [
    "!rm mydata.sqlite"
   ]
  },
  {
   "cell_type": "markdown",
   "metadata": {
    "deletable": true,
    "editable": true
   },
   "source": [
    "## Conclusion"
   ]
  }
 ],
 "metadata": {
  "kernelspec": {
   "display_name": "Python 3",
   "language": "python",
   "name": "python3"
  },
  "language_info": {
   "codemirror_mode": {
    "name": "ipython",
    "version": 3
   },
   "file_extension": ".py",
   "mimetype": "text/x-python",
   "name": "python",
   "nbconvert_exporter": "python",
   "pygments_lexer": "ipython3",
   "version": "3.7.5-final"
  }
 },
 "nbformat": 4,
 "nbformat_minor": 0
}